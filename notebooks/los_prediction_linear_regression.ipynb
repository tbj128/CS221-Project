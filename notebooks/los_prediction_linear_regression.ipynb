{
 "cells": [
  {
   "cell_type": "markdown",
   "metadata": {},
   "source": [
    "# LOS Prediction - Basic Linear Regression with Regularization\n",
    "\n",
    "This notebook explores fitting the 24 or 48 hour data set using linear regression with SGD"
   ]
  },
  {
   "cell_type": "code",
   "execution_count": 73,
   "metadata": {},
   "outputs": [
    {
     "name": "stdout",
     "output_type": "stream",
     "text": [
      "2.0.0\n"
     ]
    }
   ],
   "source": [
    "from __future__ import absolute_import, division, print_function, unicode_literals\n",
    "\n",
    "import pathlib\n",
    "\n",
    "import matplotlib.pyplot as plt\n",
    "import pandas as pd\n",
    "import seaborn as sns\n",
    "\n",
    "import tensorflow as tf\n",
    "\n",
    "from tensorflow import keras\n",
    "from tensorflow.keras import layers\n",
    "from keras.layers.advanced_activations import LeakyReLU\n",
    "\n",
    "import numpy as np\n",
    "\n",
    "print(tf.__version__)"
   ]
  },
  {
   "cell_type": "code",
   "execution_count": 74,
   "metadata": {},
   "outputs": [
    {
     "data": {
      "image/png": "[encoded data removed]",
      "text/plain": [
       "<matplotlib.figure.Figure at 0x1378364e0>"
      ]
     },
     "metadata": {
      "needs_background": "light"
     },
     "output_type": "display_data"
    }
   ],
   "source": [
    "raw_dataset = pd.read_csv('../data/exp/pneumonia-t3/first48hours.csv', header=0)\n",
    "df = raw_dataset.copy()\n",
    "\n",
    "# Plot how many columns have non-zero values\n",
    "(df==0).mean().hist(bins=100, grid=False, xlabelsize=12, ylabelsize=12)\n",
    "plt.xlabel(\"% Non-Zero\", fontsize=15)\n",
    "plt.ylabel(\"Frequency\",fontsize=15)\n",
    "plt.xlim([0,1.1])\n",
    "plt.ylim([0,200.0])\n",
    "\n",
    "# Shuffle data because data is ordered by admittime currently\n",
    "df = df.sample(frac=1).reset_index(drop=True)\n"
   ]
  },
  {
   "cell_type": "code",
   "execution_count": 75,
   "metadata": {},
   "outputs": [
    {
     "name": "stdout",
     "output_type": "stream",
     "text": [
      "Num columns starting: 2474\n"
     ]
    },
    {
     "data": {
      "text/html": [
       "<div>\n",
       "<style scoped>\n",
       "    .dataframe tbody tr th:only-of-type {\n",
       "        vertical-align: middle;\n",
       "    }\n",
       "\n",
       "    .dataframe tbody tr th {\n",
       "        vertical-align: top;\n",
       "    }\n",
       "\n",
       "    .dataframe thead th {\n",
       "        text-align: right;\n",
       "    }\n",
       "</style>\n",
       "<table border=\"1\" class=\"dataframe\">\n",
       "  <thead>\n",
       "    <tr style=\"text-align: right;\">\n",
       "      <th></th>\n",
       "      <th>status</th>\n",
       "      <th>los</th>\n",
       "      <th>age</th>\n",
       "      <th>gender</th>\n",
       "      <th>insurance</th>\n",
       "      <th>language</th>\n",
       "      <th>religion</th>\n",
       "      <th>marital_status</th>\n",
       "      <th>ethnicity</th>\n",
       "      <th>Anion Gap</th>\n",
       "      <th>...</th>\n",
       "      <th>Systolic</th>\n",
       "      <th>Systolic-trend</th>\n",
       "      <th>O2 Flow.1</th>\n",
       "      <th>O2 Flow-trend.1</th>\n",
       "      <th>Respiratory Rate</th>\n",
       "      <th>Respiratory Rate-trend</th>\n",
       "      <th>Temperature.1</th>\n",
       "      <th>Temperature-trend.1</th>\n",
       "      <th>O2</th>\n",
       "      <th>O2-trend</th>\n",
       "    </tr>\n",
       "  </thead>\n",
       "  <tbody>\n",
       "    <tr>\n",
       "      <th>3877</th>\n",
       "      <td>1</td>\n",
       "      <td>4.790</td>\n",
       "      <td>76.5246</td>\n",
       "      <td>F</td>\n",
       "      <td>Medicare</td>\n",
       "      <td>ENGL</td>\n",
       "      <td>PROTESTANT QUAKER</td>\n",
       "      <td>MARRIED</td>\n",
       "      <td>BLACK/AFRICAN AMERICAN</td>\n",
       "      <td>13.538</td>\n",
       "      <td>...</td>\n",
       "      <td>116.111</td>\n",
       "      <td>0.244</td>\n",
       "      <td>0.000</td>\n",
       "      <td>0.000</td>\n",
       "      <td>15.260</td>\n",
       "      <td>0.075</td>\n",
       "      <td>34.875</td>\n",
       "      <td>-0.358</td>\n",
       "      <td>99.706</td>\n",
       "      <td>0.022</td>\n",
       "    </tr>\n",
       "    <tr>\n",
       "      <th>3878</th>\n",
       "      <td>0</td>\n",
       "      <td>1.313</td>\n",
       "      <td>55.9574</td>\n",
       "      <td>M</td>\n",
       "      <td>Private</td>\n",
       "      <td>ENGL</td>\n",
       "      <td>NOT SPECIFIED</td>\n",
       "      <td>SEPARATED</td>\n",
       "      <td>WHITE</td>\n",
       "      <td>15.333</td>\n",
       "      <td>...</td>\n",
       "      <td>140.000</td>\n",
       "      <td>0.386</td>\n",
       "      <td>2.571</td>\n",
       "      <td>-0.094</td>\n",
       "      <td>59.429</td>\n",
       "      <td>0.405</td>\n",
       "      <td>36.565</td>\n",
       "      <td>-0.048</td>\n",
       "      <td>0.000</td>\n",
       "      <td>0.000</td>\n",
       "    </tr>\n",
       "    <tr>\n",
       "      <th>3879</th>\n",
       "      <td>0</td>\n",
       "      <td>36.052</td>\n",
       "      <td>74.4794</td>\n",
       "      <td>M</td>\n",
       "      <td>Medicare</td>\n",
       "      <td>ENGL</td>\n",
       "      <td>CATHOLIC</td>\n",
       "      <td>MARRIED</td>\n",
       "      <td>OTHER</td>\n",
       "      <td>12.000</td>\n",
       "      <td>...</td>\n",
       "      <td>132.000</td>\n",
       "      <td>21.201</td>\n",
       "      <td>3.833</td>\n",
       "      <td>-0.179</td>\n",
       "      <td>14.900</td>\n",
       "      <td>0.049</td>\n",
       "      <td>0.000</td>\n",
       "      <td>0.000</td>\n",
       "      <td>96.381</td>\n",
       "      <td>0.097</td>\n",
       "    </tr>\n",
       "    <tr>\n",
       "      <th>3880</th>\n",
       "      <td>0</td>\n",
       "      <td>5.001</td>\n",
       "      <td>46.7991</td>\n",
       "      <td>M</td>\n",
       "      <td>Private</td>\n",
       "      <td>ENGL</td>\n",
       "      <td>NOT SPECIFIED</td>\n",
       "      <td>MARRIED</td>\n",
       "      <td>BLACK/AFRICAN AMERICAN</td>\n",
       "      <td>16.000</td>\n",
       "      <td>...</td>\n",
       "      <td>124.280</td>\n",
       "      <td>-0.632</td>\n",
       "      <td>4.000</td>\n",
       "      <td>-0.000</td>\n",
       "      <td>22.346</td>\n",
       "      <td>-0.071</td>\n",
       "      <td>0.000</td>\n",
       "      <td>0.000</td>\n",
       "      <td>98.000</td>\n",
       "      <td>0.015</td>\n",
       "    </tr>\n",
       "    <tr>\n",
       "      <th>3881</th>\n",
       "      <td>0</td>\n",
       "      <td>9.067</td>\n",
       "      <td>28.4195</td>\n",
       "      <td>F</td>\n",
       "      <td>Private</td>\n",
       "      <td>PTUN</td>\n",
       "      <td>UNOBTAINABLE</td>\n",
       "      <td>MARRIED</td>\n",
       "      <td>WHITE</td>\n",
       "      <td>11.750</td>\n",
       "      <td>...</td>\n",
       "      <td>153.455</td>\n",
       "      <td>0.750</td>\n",
       "      <td>10.000</td>\n",
       "      <td>-0.000</td>\n",
       "      <td>17.089</td>\n",
       "      <td>-0.246</td>\n",
       "      <td>0.000</td>\n",
       "      <td>0.000</td>\n",
       "      <td>96.222</td>\n",
       "      <td>0.010</td>\n",
       "    </tr>\n",
       "  </tbody>\n",
       "</table>\n",
       "<p>5 rows × 230 columns</p>\n",
       "</div>"
      ],
      "text/plain": [
       "      status     los      age gender insurance language           religion  \\\n",
       "3877       1   4.790  76.5246      F  Medicare     ENGL  PROTESTANT QUAKER   \n",
       "3878       0   1.313  55.9574      M   Private     ENGL      NOT SPECIFIED   \n",
       "3879       0  36.052  74.4794      M  Medicare     ENGL           CATHOLIC   \n",
       "3880       0   5.001  46.7991      M   Private     ENGL      NOT SPECIFIED   \n",
       "3881       0   9.067  28.4195      F   Private     PTUN       UNOBTAINABLE   \n",
       "\n",
       "     marital_status               ethnicity  Anion Gap    ...     Systolic  \\\n",
       "3877        MARRIED  BLACK/AFRICAN AMERICAN     13.538    ...      116.111   \n",
       "3878      SEPARATED                   WHITE     15.333    ...      140.000   \n",
       "3879        MARRIED                   OTHER     12.000    ...      132.000   \n",
       "3880        MARRIED  BLACK/AFRICAN AMERICAN     16.000    ...      124.280   \n",
       "3881        MARRIED                   WHITE     11.750    ...      153.455   \n",
       "\n",
       "      Systolic-trend  O2 Flow.1  O2 Flow-trend.1  Respiratory Rate  \\\n",
       "3877           0.244      0.000            0.000            15.260   \n",
       "3878           0.386      2.571           -0.094            59.429   \n",
       "3879          21.201      3.833           -0.179            14.900   \n",
       "3880          -0.632      4.000           -0.000            22.346   \n",
       "3881           0.750     10.000           -0.000            17.089   \n",
       "\n",
       "      Respiratory Rate-trend  Temperature.1  Temperature-trend.1      O2  \\\n",
       "3877                   0.075         34.875               -0.358  99.706   \n",
       "3878                   0.405         36.565               -0.048   0.000   \n",
       "3879                   0.049          0.000                0.000  96.381   \n",
       "3880                  -0.071          0.000                0.000  98.000   \n",
       "3881                  -0.246          0.000                0.000  96.222   \n",
       "\n",
       "      O2-trend  \n",
       "3877     0.022  \n",
       "3878     0.000  \n",
       "3879     0.097  \n",
       "3880     0.015  \n",
       "3881     0.010  \n",
       "\n",
       "[5 rows x 230 columns]"
      ]
     },
     "execution_count": 75,
     "metadata": {},
     "output_type": "execute_result"
    }
   ],
   "source": [
    "\n",
    "print(\"Num columns starting: \" + str(len(df.columns)))\n",
    "\n",
    "df = df.loc[:, (df==0).mean() < .9]\n",
    "df.fillna(0, inplace=True)\n",
    "df = df.replace([np.inf, -np.inf], 0)\n",
    "\n",
    "# Remove rows where the chartevents aren't available\n",
    "df = df[df['Heart Rate'] > 0]\n",
    "\n",
    "# Remove outliers\n",
    "df = df[df['los'] <= 100]\n",
    "\n",
    "# Shuffle data because data is ordered by admittime currently\n",
    "df = df.sample(frac=1).reset_index(drop=True)\n",
    "df.tail()\n"
   ]
  },
  {
   "cell_type": "code",
   "execution_count": 76,
   "metadata": {},
   "outputs": [],
   "source": [
    "# One hot encode the demographic columns\n",
    "cols_to_one_hot = ['gender', 'insurance', 'language', 'religion', 'marital_status', 'ethnicity']\n",
    "for col in cols_to_one_hot:\n",
    "    one_hot = pd.get_dummies(df[col], col)\n",
    "    df = df.drop(col, axis = 1)\n",
    "    df = df.join(one_hot)\n",
    "\n",
    "df = df.loc[:, (df==0).mean() < .9]"
   ]
  },
  {
   "cell_type": "code",
   "execution_count": 77,
   "metadata": {},
   "outputs": [
    {
     "name": "stdout",
     "output_type": "stream",
     "text": [
      "Num columns before feature selection: 236\n"
     ]
    }
   ],
   "source": [
    "los = df.pop('los')\n",
    "\n",
    "# NORMALIZE THE DATASET\n",
    "stats = df.describe()\n",
    "stats = stats.transpose()\n",
    "\n",
    "def norm(x):\n",
    "  return (x - stats['mean']) / stats['std']\n",
    "normed_df = norm(df)\n",
    "\n",
    "print(\"Num columns before feature selection: \" + str(len(normed_df.columns)))\n"
   ]
  },
  {
   "cell_type": "code",
   "execution_count": 78,
   "metadata": {},
   "outputs": [],
   "source": [
    "\n",
    "# DIVIDE INTO TRAIN/TEST\n",
    "normed_df.insert(0, 'los', los)\n",
    "train_dataset = normed_df.sample(frac=0.7)\n",
    "test_dataset = normed_df.drop(train_dataset.index)\n",
    "train_labels = train_dataset.pop('los')\n",
    "test_labels = test_dataset.pop('los')\n"
   ]
  },
  {
   "cell_type": "code",
   "execution_count": 79,
   "metadata": {},
   "outputs": [
    {
     "name": "stdout",
     "output_type": "stream",
     "text": [
      "10.655549201442554\n",
      "7.9725\n"
     ]
    },
    {
     "data": {
      "image/png": "[encoded data removed]",
      "text/plain": [
       "<matplotlib.figure.Figure at 0x139ac1978>"
      ]
     },
     "metadata": {
      "needs_background": "light"
     },
     "output_type": "display_data"
    }
   ],
   "source": [
    "# LOS histogram\n",
    "\n",
    "normed_df['los'].hist(bins=1000, grid=False, xlabelsize=12, ylabelsize=12)\n",
    "plt.xlabel(\"Length of Stay\", fontsize=15)\n",
    "plt.ylabel(\"Frequency\",fontsize=15)\n",
    "plt.xlim([0,100.0])\n",
    "\n",
    "print(normed_df['los'].mean())\n",
    "print(normed_df['los'].median())\n"
   ]
  },
  {
   "cell_type": "code",
   "execution_count": 80,
   "metadata": {},
   "outputs": [
    {
     "name": "stdout",
     "output_type": "stream",
     "text": [
      "5.226,8.519,8.788\n",
      "5.334,6.873,7.308\n",
      "5.331,6.905,7.344\n",
      "6.143,5.761,5.897\n"
     ]
    }
   ],
   "source": [
    "from sklearn.linear_model import SGDClassifier, SGDRegressor, LogisticRegression, LinearRegression\n",
    "from sklearn.metrics import mean_squared_error, mean_absolute_error\n",
    "from sklearn.model_selection import train_test_split\n",
    "from sklearn.preprocessing import LabelEncoder\n",
    "from sklearn.linear_model import ElasticNet\n",
    "from math import sqrt, isfinite\n",
    "\n",
    "X_train, X_val, y_train, y_val = train_test_split(train_dataset, train_labels, test_size=0.70)\n",
    "# normed_train_data\n",
    "\n",
    "def train_and_print_stats(clf):\n",
    "    clf.fit(X_train, y_train)\n",
    "\n",
    "    y_train_preds = clf.predict(X_train)\n",
    "    training_error = mean_absolute_error(y_train, y_train_preds)\n",
    "    #print(\"Training (LOS): \" + str(training_error))\n",
    "\n",
    "    y_val_preds = clf.predict(X_val)\n",
    "    val_error = mean_absolute_error(y_val, y_val_preds)\n",
    "\n",
    "    y_test_preds = clf.predict(test_dataset)\n",
    "    test_error = mean_absolute_error(test_labels, y_test_preds)\n",
    "    \n",
    "    print(str(round(training_error, 3)) + \",\" + str(round(val_error, 3)) + \",\" + str(round(test_error, 3)))\n",
    "\n",
    "#print(\"Linear Regression: \")\n",
    "clf = LinearRegression(normalize=False)\n",
    "train_and_print_stats(clf)\n",
    "\n",
    "#print(\"SGD Regression (L1): \")\n",
    "clf = SGDRegressor(loss=\"squared_loss\", penalty=\"l1\", eta0=0.001)\n",
    "train_and_print_stats(clf)\n",
    "\n",
    "#print(\"SGD Regression (L2): \")\n",
    "clf = SGDRegressor(loss=\"squared_loss\", penalty=\"l2\", eta0=0.001)\n",
    "train_and_print_stats(clf)\n",
    "\n",
    "#print(\"Elastic Net: \")\n",
    "clf = ElasticNet(l1_ratio=0.5, max_iter=10000)\n",
    "train_and_print_stats(clf)\n",
    "\n"
   ]
  },
  {
   "cell_type": "code",
   "execution_count": 81,
   "metadata": {},
   "outputs": [
    {
     "ename": "ValueError",
     "evalue": "operands could not be broadcast together with shapes (1089,) (1165,) ",
     "output_type": "error",
     "traceback": [
      "\u001b[0;31m---------------------------------------------------------------------------\u001b[0m",
      "\u001b[0;31mValueError\u001b[0m                                Traceback (most recent call last)",
      "\u001b[0;32m<ipython-input-81-811f681655f6>\u001b[0m in \u001b[0;36m<module>\u001b[0;34m()\u001b[0m\n\u001b[1;32m      2\u001b[0m \u001b[0;31m#sns.residplot(y_train, np.subtract(y_train_preds, y_train), lowess=True, color=\"g\")\u001b[0m\u001b[0;34m\u001b[0m\u001b[0;34m\u001b[0m\u001b[0m\n\u001b[1;32m      3\u001b[0m \u001b[0;34m\u001b[0m\u001b[0m\n\u001b[0;32m----> 4\u001b[0;31m \u001b[0max\u001b[0m \u001b[0;34m=\u001b[0m \u001b[0msns\u001b[0m\u001b[0;34m.\u001b[0m\u001b[0mresidplot\u001b[0m\u001b[0;34m(\u001b[0m\u001b[0mtest_labels\u001b[0m\u001b[0;34m,\u001b[0m \u001b[0mnp\u001b[0m\u001b[0;34m.\u001b[0m\u001b[0msubtract\u001b[0m\u001b[0;34m(\u001b[0m\u001b[0my_test_preds\u001b[0m\u001b[0;34m,\u001b[0m \u001b[0mtest_labels\u001b[0m\u001b[0;34m)\u001b[0m\u001b[0;34m,\u001b[0m \u001b[0mlowess\u001b[0m\u001b[0;34m=\u001b[0m\u001b[0;32mTrue\u001b[0m\u001b[0;34m,\u001b[0m \u001b[0mcolor\u001b[0m\u001b[0;34m=\u001b[0m\u001b[0;34m\"g\"\u001b[0m\u001b[0;34m)\u001b[0m\u001b[0;34m\u001b[0m\u001b[0m\n\u001b[0m\u001b[1;32m      5\u001b[0m \u001b[0max\u001b[0m\u001b[0;34m.\u001b[0m\u001b[0mset\u001b[0m\u001b[0;34m(\u001b[0m\u001b[0mxlabel\u001b[0m\u001b[0;34m=\u001b[0m\u001b[0;34m'Actual Length of Stay'\u001b[0m\u001b[0;34m,\u001b[0m \u001b[0mylabel\u001b[0m\u001b[0;34m=\u001b[0m\u001b[0;34m'Residual'\u001b[0m\u001b[0;34m)\u001b[0m\u001b[0;34m\u001b[0m\u001b[0m\n\u001b[1;32m      6\u001b[0m \u001b[0mplt\u001b[0m\u001b[0;34m.\u001b[0m\u001b[0mshow\u001b[0m\u001b[0;34m(\u001b[0m\u001b[0;34m)\u001b[0m\u001b[0;34m\u001b[0m\u001b[0m\n",
      "\u001b[0;31mValueError\u001b[0m: operands could not be broadcast together with shapes (1089,) (1165,) "
     ]
    }
   ],
   "source": [
    "#np.subtract(y_train_preds, y_train)\n",
    "#sns.residplot(y_train, np.subtract(y_train_preds, y_train), lowess=True, color=\"g\")\n",
    "\n",
    "ax = sns.residplot(test_labels, np.subtract(y_test_preds, test_labels), lowess=True, color=\"g\")\n",
    "ax.set(xlabel='Actual Length of Stay', ylabel='Residual')\n",
    "plt.show()"
   ]
  },
  {
   "cell_type": "code",
   "execution_count": null,
   "metadata": {},
   "outputs": [],
   "source": []
  }
 ],
 "metadata": {
  "kernelspec": {
   "display_name": "Python 3",
   "language": "python",
   "name": "python3"
  },
  "language_info": {
   "codemirror_mode": {
    "name": "ipython",
    "version": 3
   },
   "file_extension": ".py",
   "mimetype": "text/x-python",
   "name": "python",
   "nbconvert_exporter": "python",
   "pygments_lexer": "ipython3",
   "version": "3.6.3"
  }
 },
 "nbformat": 4,
 "nbformat_minor": 2
}
