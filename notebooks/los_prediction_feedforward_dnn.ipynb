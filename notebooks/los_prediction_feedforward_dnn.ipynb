{
 "cells": [
  {
   "cell_type": "markdown",
   "metadata": {},
   "source": [
    "# LOS Prediction - Feedforward Deep Neural Network\n",
    "\n",
    "This notebook predicts the hospital length of stay using the first 24 or 48 hour processed MIMIC-III dataset.\n",
    "\n",
    "Here, we attempt to train with varying layers, hidden units, and other tunable hyperparameters to achieve the optimal performance on the validation set. \n",
    "\n",
    "Later on, we try to improve the performance by running feature selection before hand. For that see `los_prediction_after_feature_selection` notebook.\n",
    "\n"
   ]
  },
  {
   "cell_type": "code",
   "execution_count": 156,
   "metadata": {},
   "outputs": [
    {
     "name": "stdout",
     "output_type": "stream",
     "text": [
      "2.0.0\n"
     ]
    }
   ],
   "source": [
    "from __future__ import absolute_import, division, print_function, unicode_literals\n",
    "\n",
    "import pathlib\n",
    "\n",
    "import matplotlib.pyplot as plt\n",
    "import pandas as pd\n",
    "import seaborn as sns\n",
    "\n",
    "import tensorflow as tf\n",
    "\n",
    "from tensorflow import keras\n",
    "from tensorflow.keras import layers\n",
    "from keras.layers.advanced_activations import LeakyReLU\n",
    "\n",
    "import numpy as np\n",
    "\n",
    "print(tf.__version__)"
   ]
  },
  {
   "cell_type": "code",
   "execution_count": 157,
   "metadata": {},
   "outputs": [
    {
     "data": {
      "text/html": [
       "<div>\n",
       "<style scoped>\n",
       "    .dataframe tbody tr th:only-of-type {\n",
       "        vertical-align: middle;\n",
       "    }\n",
       "\n",
       "    .dataframe tbody tr th {\n",
       "        vertical-align: top;\n",
       "    }\n",
       "\n",
       "    .dataframe thead th {\n",
       "        text-align: right;\n",
       "    }\n",
       "</style>\n",
       "<table border=\"1\" class=\"dataframe\">\n",
       "  <thead>\n",
       "    <tr style=\"text-align: right;\">\n",
       "      <th></th>\n",
       "      <th>los</th>\n",
       "      <th>age</th>\n",
       "      <th>gender</th>\n",
       "      <th>insurance</th>\n",
       "      <th>language</th>\n",
       "      <th>religion</th>\n",
       "      <th>marital_status</th>\n",
       "      <th>ethnicity</th>\n",
       "      <th>Anion Gap</th>\n",
       "      <th>Anion Gap-trend</th>\n",
       "      <th>...</th>\n",
       "      <th>Systolic</th>\n",
       "      <th>Systolic-trend</th>\n",
       "      <th>O2 Flow.1</th>\n",
       "      <th>O2 Flow-trend.1</th>\n",
       "      <th>Respiratory Rate</th>\n",
       "      <th>Respiratory Rate-trend</th>\n",
       "      <th>Temperature.1</th>\n",
       "      <th>Temperature-trend.1</th>\n",
       "      <th>O2</th>\n",
       "      <th>O2-trend</th>\n",
       "    </tr>\n",
       "  </thead>\n",
       "  <tbody>\n",
       "    <tr>\n",
       "      <th>3877</th>\n",
       "      <td>5.562</td>\n",
       "      <td>91.4000</td>\n",
       "      <td>M</td>\n",
       "      <td>Medicare</td>\n",
       "      <td>0</td>\n",
       "      <td>CATHOLIC</td>\n",
       "      <td>WIDOWED</td>\n",
       "      <td>WHITE</td>\n",
       "      <td>11.000</td>\n",
       "      <td>0.084</td>\n",
       "      <td>...</td>\n",
       "      <td>115.675</td>\n",
       "      <td>0.512</td>\n",
       "      <td>33.533</td>\n",
       "      <td>-1.987</td>\n",
       "      <td>57.727</td>\n",
       "      <td>-0.068</td>\n",
       "      <td>36.604</td>\n",
       "      <td>-0.025</td>\n",
       "      <td>0.000</td>\n",
       "      <td>0.000</td>\n",
       "    </tr>\n",
       "    <tr>\n",
       "      <th>3878</th>\n",
       "      <td>29.817</td>\n",
       "      <td>21.4187</td>\n",
       "      <td>M</td>\n",
       "      <td>Private</td>\n",
       "      <td>0</td>\n",
       "      <td>CATHOLIC</td>\n",
       "      <td>SINGLE</td>\n",
       "      <td>WHITE</td>\n",
       "      <td>13.667</td>\n",
       "      <td>-0.019</td>\n",
       "      <td>...</td>\n",
       "      <td>110.188</td>\n",
       "      <td>0.340</td>\n",
       "      <td>0.000</td>\n",
       "      <td>0.000</td>\n",
       "      <td>57.089</td>\n",
       "      <td>-0.075</td>\n",
       "      <td>56.866</td>\n",
       "      <td>-0.009</td>\n",
       "      <td>0.000</td>\n",
       "      <td>0.000</td>\n",
       "    </tr>\n",
       "    <tr>\n",
       "      <th>3879</th>\n",
       "      <td>12.883</td>\n",
       "      <td>81.0750</td>\n",
       "      <td>F</td>\n",
       "      <td>Medicare</td>\n",
       "      <td>ENGL</td>\n",
       "      <td>NOT SPECIFIED</td>\n",
       "      <td>MARRIED</td>\n",
       "      <td>WHITE</td>\n",
       "      <td>14.500</td>\n",
       "      <td>0.035</td>\n",
       "      <td>...</td>\n",
       "      <td>107.176</td>\n",
       "      <td>-0.651</td>\n",
       "      <td>0.000</td>\n",
       "      <td>0.000</td>\n",
       "      <td>15.115</td>\n",
       "      <td>-0.112</td>\n",
       "      <td>0.000</td>\n",
       "      <td>0.000</td>\n",
       "      <td>95.923</td>\n",
       "      <td>-0.005</td>\n",
       "    </tr>\n",
       "    <tr>\n",
       "      <th>3880</th>\n",
       "      <td>4.186</td>\n",
       "      <td>91.4000</td>\n",
       "      <td>F</td>\n",
       "      <td>Medicare</td>\n",
       "      <td>ENGL</td>\n",
       "      <td>CATHOLIC</td>\n",
       "      <td>SINGLE</td>\n",
       "      <td>WHITE</td>\n",
       "      <td>16.000</td>\n",
       "      <td>-0.000</td>\n",
       "      <td>...</td>\n",
       "      <td>124.760</td>\n",
       "      <td>0.193</td>\n",
       "      <td>2.000</td>\n",
       "      <td>-0.000</td>\n",
       "      <td>24.280</td>\n",
       "      <td>0.072</td>\n",
       "      <td>0.000</td>\n",
       "      <td>0.000</td>\n",
       "      <td>95.440</td>\n",
       "      <td>-0.128</td>\n",
       "    </tr>\n",
       "    <tr>\n",
       "      <th>3881</th>\n",
       "      <td>6.631</td>\n",
       "      <td>91.4000</td>\n",
       "      <td>F</td>\n",
       "      <td>Medicare</td>\n",
       "      <td>0</td>\n",
       "      <td>UNOBTAINABLE</td>\n",
       "      <td>WIDOWED</td>\n",
       "      <td>WHITE</td>\n",
       "      <td>14.333</td>\n",
       "      <td>-0.007</td>\n",
       "      <td>...</td>\n",
       "      <td>105.156</td>\n",
       "      <td>-0.380</td>\n",
       "      <td>3.286</td>\n",
       "      <td>0.044</td>\n",
       "      <td>58.306</td>\n",
       "      <td>-0.476</td>\n",
       "      <td>37.432</td>\n",
       "      <td>-0.065</td>\n",
       "      <td>0.000</td>\n",
       "      <td>0.000</td>\n",
       "    </tr>\n",
       "  </tbody>\n",
       "</table>\n",
       "<p>5 rows × 121 columns</p>\n",
       "</div>"
      ],
      "text/plain": [
       "         los      age gender insurance language       religion marital_status  \\\n",
       "3877   5.562  91.4000      M  Medicare        0       CATHOLIC        WIDOWED   \n",
       "3878  29.817  21.4187      M   Private        0       CATHOLIC         SINGLE   \n",
       "3879  12.883  81.0750      F  Medicare     ENGL  NOT SPECIFIED        MARRIED   \n",
       "3880   4.186  91.4000      F  Medicare     ENGL       CATHOLIC         SINGLE   \n",
       "3881   6.631  91.4000      F  Medicare        0   UNOBTAINABLE        WIDOWED   \n",
       "\n",
       "     ethnicity  Anion Gap  Anion Gap-trend    ...     Systolic  \\\n",
       "3877     WHITE     11.000            0.084    ...      115.675   \n",
       "3878     WHITE     13.667           -0.019    ...      110.188   \n",
       "3879     WHITE     14.500            0.035    ...      107.176   \n",
       "3880     WHITE     16.000           -0.000    ...      124.760   \n",
       "3881     WHITE     14.333           -0.007    ...      105.156   \n",
       "\n",
       "      Systolic-trend  O2 Flow.1  O2 Flow-trend.1  Respiratory Rate  \\\n",
       "3877           0.512     33.533           -1.987            57.727   \n",
       "3878           0.340      0.000            0.000            57.089   \n",
       "3879          -0.651      0.000            0.000            15.115   \n",
       "3880           0.193      2.000           -0.000            24.280   \n",
       "3881          -0.380      3.286            0.044            58.306   \n",
       "\n",
       "      Respiratory Rate-trend  Temperature.1  Temperature-trend.1      O2  \\\n",
       "3877                  -0.068         36.604               -0.025   0.000   \n",
       "3878                  -0.075         56.866               -0.009   0.000   \n",
       "3879                  -0.112          0.000                0.000  95.923   \n",
       "3880                   0.072          0.000                0.000  95.440   \n",
       "3881                  -0.476         37.432               -0.065   0.000   \n",
       "\n",
       "      O2-trend  \n",
       "3877     0.000  \n",
       "3878     0.000  \n",
       "3879    -0.005  \n",
       "3880    -0.128  \n",
       "3881     0.000  \n",
       "\n",
       "[5 rows x 121 columns]"
      ]
     },
     "execution_count": 157,
     "metadata": {},
     "output_type": "execute_result"
    }
   ],
   "source": [
    "\n",
    "raw_dataset = pd.read_csv('../data/exp/pneumonia-t3/first48hours.csv', header=0)\n",
    "df = raw_dataset.copy()\n",
    "\n",
    "df = df.loc[:, (df==0).mean() < .7]\n",
    "df.fillna(0, inplace=True)\n",
    "df = df.replace([np.inf, -np.inf], 0)\n",
    "\n",
    "# Remove rows where the chartevents aren't available\n",
    "df = df[df['Heart Rate'] > 0]\n",
    "\n",
    "# Remove outliers\n",
    "df = df[df['los'] <= 100]\n",
    "\n",
    "# Shuffle data because data is ordered by admittime currently\n",
    "df = df.sample(frac=1).reset_index(drop=True)\n",
    "df.tail()\n"
   ]
  },
  {
   "cell_type": "code",
   "execution_count": 158,
   "metadata": {},
   "outputs": [],
   "source": [
    "# One hot encode the demographic columns\n",
    "# (comment out if we don't want to use the demographic columns at all)\n",
    "# \n",
    "cols_to_one_hot = ['gender', 'insurance', 'language', 'religion', 'marital_status', 'ethnicity']\n",
    "for col in cols_to_one_hot:\n",
    "    one_hot = pd.get_dummies(df[col], col)\n",
    "    df = df.drop(col, axis = 1)\n",
    "    df = df.join(one_hot)\n",
    "los = df.pop('los')"
   ]
  },
  {
   "cell_type": "code",
   "execution_count": 159,
   "metadata": {},
   "outputs": [
    {
     "name": "stdout",
     "output_type": "stream",
     "text": [
      "Num columns: 213\n",
      "Num rows: 3882\n"
     ]
    },
    {
     "name": "stderr",
     "output_type": "stream",
     "text": [
      "/Library/Frameworks/Python.framework/Versions/3.6/lib/python3.6/site-packages/sklearn/linear_model/stochastic_gradient.py:1185: ConvergenceWarning: Maximum number of iteration reached before convergence. Consider increasing max_iter to improve the fit.\n",
      "  ConvergenceWarning)\n"
     ]
    },
    {
     "name": "stdout",
     "output_type": "stream",
     "text": [
      "Training (LOS): 5.4880306208090515\n",
      "Validation (LOS): 6.644783289677404\n",
      "Testing (LOS): 6.547327730822475\n"
     ]
    },
    {
     "name": "stderr",
     "output_type": "stream",
     "text": [
      "/Library/Frameworks/Python.framework/Versions/3.6/lib/python3.6/site-packages/scipy/stats/stats.py:1706: FutureWarning: Using a non-tuple sequence for multidimensional indexing is deprecated; use `arr[tuple(seq)]` instead of `arr[seq]`. In the future this will be interpreted as an array index, `arr[np.array(seq)]`, which will result either in an error or a different result.\n",
      "  return np.add.reduce(sorted[indexer] * weights, axis=axis) / sumval\n"
     ]
    },
    {
     "data": {
      "text/plain": [
       "<seaborn.axisgrid.PairGrid at 0x13afbc630>"
      ]
     },
     "execution_count": 159,
     "metadata": {},
     "output_type": "execute_result"
    },
    {
     "data": {
      "image/png": "[encoded data removed]",
      "text/plain": [
       "<matplotlib.figure.Figure at 0x14d92d358>"
      ]
     },
     "metadata": {
      "needs_background": "light"
     },
     "output_type": "display_data"
    }
   ],
   "source": [
    "from sklearn.linear_model import SGDClassifier, SGDRegressor, LogisticRegression, LinearRegression\n",
    "from sklearn.metrics import mean_squared_error, mean_absolute_error\n",
    "from sklearn.model_selection import train_test_split\n",
    "from sklearn.preprocessing import LabelEncoder\n",
    "from sklearn.feature_selection import SelectFromModel\n",
    "from sklearn.linear_model import ElasticNet\n",
    "from math import sqrt\n",
    "from sklearn.feature_selection import f_regression, mutual_info_regression, SelectKBest\n",
    "\n",
    "\n",
    "# NORMALIZE THE DATASET\n",
    "stats = df.describe()\n",
    "stats = stats.transpose()\n",
    "\n",
    "def norm(x):\n",
    "  return (x - stats['mean']) / stats['std']\n",
    "normed_df = norm(df)\n",
    "\n",
    "print(\"Num columns: \" + str(len(normed_df.columns)))\n",
    "print(\"Num rows: \" + str(len(df.values)))\n",
    "\n",
    "# DIVIDE INTO TRAIN/TEST\n",
    "normed_df.insert(0, 'los', los)\n",
    "train_dataset = normed_df.sample(frac=0.7)\n",
    "test_dataset = normed_df.drop(train_dataset.index)\n",
    "train_labels = train_dataset.pop('los')\n",
    "test_labels = test_dataset.pop('los')\n",
    "\n",
    "#print(test_labels)\n",
    "X_train, X_val, y_train, y_val = train_test_split(train_dataset, train_labels, test_size=0.70)\n",
    "\n",
    "# normed_train_data\n",
    "\n",
    "clf = SGDRegressor(loss=\"squared_loss\", penalty=\"l1\", eta0=0.0001)\n",
    "# clf = LinearRegression(normalize=True)\n",
    "clf.fit(X_train, y_train)\n",
    "\n",
    "y_train_preds = clf.predict(X_train)\n",
    "training_error = mean_absolute_error(y_train, y_train_preds)\n",
    "print(\"Training (LOS): \" + str(training_error))\n",
    "\n",
    "y_val_preds = clf.predict(X_val)\n",
    "training_error = mean_absolute_error(y_val, y_val_preds)\n",
    "print(\"Validation (LOS): \" + str(training_error))\n",
    "\n",
    "y_test_preds = clf.predict(test_dataset)\n",
    "test_error = mean_absolute_error(test_labels, y_test_preds)\n",
    "print(\"Testing (LOS): \" + str(test_error))\n",
    "\n",
    "sns.pairplot(train_dataset[[\"Anion Gap\", \"Basophils\"]], diag_kind=\"kde\")\n"
   ]
  },
  {
   "cell_type": "code",
   "execution_count": 173,
   "metadata": {},
   "outputs": [],
   "source": [
    "# https://stats.stackexchange.com/questions/181/how-to-choose-the-number-of-hidden-layers-and-nodes-in-a-feedforward-neural-netw\n",
    "def build_model():\n",
    "  model = keras.Sequential([\n",
    "    layers.Dense(12, activation='relu', input_shape=[len(train_dataset.keys())]),\n",
    "    layers.Dropout(0.5, name='dropout_1'),\n",
    "    layers.Dense(12, activation='relu', input_shape=[len(train_dataset.keys())]),\n",
    "#     layers.Dropout(0.5, name='dropout_2'),\n",
    "#     layers.Dense(12, activation='relu', input_shape=[len(train_dataset.keys())]),\n",
    "#     layers.Dense(512, kernel_initializer='normal',activation='relu'),\n",
    "#     layers.Dropout(0.5, name='dropout_1'),\n",
    "#     layers.Dense(512, kernel_initializer='normal',activation='relu'),\n",
    "#     layers.Dropout(0.5, name='dropout_2'),\n",
    "#     layers.Dense(512, kernel_initializer='normal',activation='relu'),\n",
    "    layers.Dense(1)\n",
    "  ])\n",
    "\n",
    "#   optimizer = tf.keras.optimizers.RMSprop(0.001)\n",
    "  optimizer = 'adam'\n",
    "\n",
    "  model.compile(loss='mse',\n",
    "                optimizer=optimizer,\n",
    "                metrics=['mae', 'mse'])\n",
    "  return model\n",
    "\n",
    "model = build_model()"
   ]
  },
  {
   "cell_type": "code",
   "execution_count": 174,
   "metadata": {
    "scrolled": true
   },
   "outputs": [
    {
     "name": "stdout",
     "output_type": "stream",
     "text": [
      "WARNING:tensorflow:Falling back from v2 loop because of error: Failed to find data adapter that can handle input: <class 'pandas.core.frame.DataFrame'>, <class 'NoneType'>\n",
      "\n",
      "........................................"
     ]
    }
   ],
   "source": [
    "\n",
    "from sklearn.model_selection import KFold\n",
    "\n",
    "# Display training progress by printing a single dot for each completed epoch\n",
    "class PrintDot(keras.callbacks.Callback):\n",
    "  def on_epoch_end(self, epoch, logs):\n",
    "    if epoch % 100 == 0: print('')\n",
    "    print('.', end='')\n",
    "\n",
    "EPOCHS = 40\n",
    "\n",
    "history = model.fit(\n",
    "      train_dataset, train_labels,\n",
    "      epochs=EPOCHS, validation_split = 0.2, verbose=0,\n",
    "      callbacks=[PrintDot()])\n",
    "\n",
    "# # X_train, X_val, y_train, y_val = train_test_split(train_dataset, train_labels, test_size=0.70)\n",
    "# kfold = KFold(n_splits=10, shuffle=True)\n",
    "# scores = []\n",
    "# for train_index, test_index in kfold.split(train_dataset):\n",
    "#     model = build_model()\n",
    "#     history = model.fit(\n",
    "#       train_dataset[train_index], train_labels[train_index],\n",
    "#       epochs=EPOCHS, validation_split = 0.2, verbose=0,\n",
    "#       callbacks=[PrintDot()])\n",
    "#     scores.append(hist[\"val_mae\"][10:].mean())\n",
    "    \n",
    "#     actual_predictions = model.predict(test_dataset)\n",
    "#     test_error = mean_absolute_error(test_labels, actual_predictions)\n",
    "#     print(\"Testing (LOS): \" + str(test_error))\n",
    "    \n",
    "# print(\"Training (LOS): \" + str(np.mean(scores)))\n",
    "\n"
   ]
  },
  {
   "cell_type": "code",
   "execution_count": 175,
   "metadata": {},
   "outputs": [
    {
     "name": "stdout",
     "output_type": "stream",
     "text": [
      "Training (LOS):5.745979420344034\n",
      "Validation (LOS):5.922368208567302\n",
      "WARNING:tensorflow:Falling back from v2 loop because of error: Failed to find data adapter that can handle input: <class 'pandas.core.frame.DataFrame'>, <class 'NoneType'>\n",
      "Testing (LOS): 5.972462361059884\n"
     ]
    }
   ],
   "source": [
    "hist = pd.DataFrame(history.history)\n",
    "hist['epoch'] = history.epoch\n",
    "hist.tail()\n",
    "print(\"Training (LOS):\" + str(hist[\"mae\"][10:].mean()))\n",
    "print(\"Validation (LOS):\" + str(hist[\"val_mae\"][10:].mean()))\n",
    "\n",
    "### Assess test error\n",
    "\n",
    "actual_predictions = model.predict(test_dataset)\n",
    "test_error = mean_absolute_error(test_labels, actual_predictions)\n",
    "print(\"Testing (LOS): \" + str(test_error))\n"
   ]
  },
  {
   "cell_type": "code",
   "execution_count": 176,
   "metadata": {},
   "outputs": [
    {
     "data": {
      "image/png": "[encoded data removed]",
      "text/plain": [
       "<matplotlib.figure.Figure at 0x168774048>"
      ]
     },
     "metadata": {
      "needs_background": "light"
     },
     "output_type": "display_data"
    },
    {
     "data": {
      "image/png": "[encoded data removed]",
      "text/plain": [
       "<matplotlib.figure.Figure at 0x164410c50>"
      ]
     },
     "metadata": {
      "needs_background": "light"
     },
     "output_type": "display_data"
    }
   ],
   "source": [
    "def plot_history(history):\n",
    "  hist = pd.DataFrame(history.history)\n",
    "  hist['epoch'] = history.epoch\n",
    "\n",
    "  plt.figure()\n",
    "  plt.xlabel('Epoch')\n",
    "  plt.ylabel('Mean Abs Error [los]')\n",
    "  plt.plot(hist['epoch'], hist['mae'],\n",
    "           label='Train Error')\n",
    "  plt.plot(hist['epoch'], hist['val_mae'],\n",
    "           label = 'Val Error')\n",
    "  #plt.ylim([0,max(hist['val_mae'])])\n",
    "  plt.legend()\n",
    "\n",
    "  plt.figure()\n",
    "  plt.xlabel('Epoch')\n",
    "  plt.ylabel('Mean Square Error [$los^2$]')\n",
    "  plt.plot(hist['epoch'], hist['mse'],\n",
    "           label='Train Error')\n",
    "  plt.plot(hist['epoch'], hist['val_mse'],\n",
    "           label = 'Val Error')\n",
    "  #plt.ylim([0,max(hist['val_mse'])])\n",
    "  plt.legend()\n",
    "  plt.show()\n",
    "\n",
    "\n",
    "plot_history(history)\n",
    "\n",
    "# hist = pd.DataFrame(history.history)\n",
    "# hist['val_mae']"
   ]
  },
  {
   "cell_type": "code",
   "execution_count": null,
   "metadata": {},
   "outputs": [],
   "source": []
  }
 ],
 "metadata": {
  "kernelspec": {
   "display_name": "Python 3",
   "language": "python",
   "name": "python3"
  },
  "language_info": {
   "codemirror_mode": {
    "name": "ipython",
    "version": 3
   },
   "file_extension": ".py",
   "mimetype": "text/x-python",
   "name": "python",
   "nbconvert_exporter": "python",
   "pygments_lexer": "ipython3",
   "version": "3.6.3"
  }
 },
 "nbformat": 4,
 "nbformat_minor": 2
}
