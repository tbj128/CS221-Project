{
 "cells": [
  {
   "cell_type": "markdown",
   "metadata": {},
   "source": [
    "# LOS Prediction - LSTM for Time-Based Data\n",
    "\n",
    "This notebook performs LOS prediction on data from the first X days from each patient. The goal is to utilize more of the dataset in order to see how the performance changes with respect to a standard DNN that only uses data from the first 24 or 48 hours.\n"
   ]
  },
  {
   "cell_type": "code",
   "execution_count": 1,
   "metadata": {},
   "outputs": [
    {
     "name": "stdout",
     "output_type": "stream",
     "text": [
      "2.0.0\n"
     ]
    },
    {
     "name": "stderr",
     "output_type": "stream",
     "text": [
      "Using TensorFlow backend.\n"
     ]
    }
   ],
   "source": [
    "###\n",
    "#\n",
    "# Imports Block\n",
    "#\n",
    "###\n",
    "\n",
    "from __future__ import absolute_import, division, print_function, unicode_literals\n",
    "\n",
    "import pathlib\n",
    "\n",
    "import matplotlib.pyplot as plt\n",
    "import pandas as pd\n",
    "import seaborn as sns\n",
    "\n",
    "import tensorflow as tf\n",
    "\n",
    "from tensorflow import keras\n",
    "from tensorflow.keras import layers\n",
    "from keras.layers.advanced_activations import LeakyReLU\n",
    "\n",
    "import numpy as np\n",
    "\n",
    "print(tf.__version__)"
   ]
  },
  {
   "cell_type": "code",
   "execution_count": 125,
   "metadata": {
    "scrolled": true
   },
   "outputs": [
    {
     "name": "stdout",
     "output_type": "stream",
     "text": [
      "Num rows in data: 51006\n",
      "Num columns before feature selection: 247\n",
      "Num columns after feature selection: 43\n"
     ]
    }
   ],
   "source": [
    "###\n",
    "#\n",
    "# Data Import and Conversion to 3D Array\n",
    "#\n",
    "###\n",
    "from sklearn.preprocessing import StandardScaler\n",
    "from sklearn.feature_selection import f_regression, mutual_info_regression, SelectKBest\n",
    "\n",
    "\n",
    "# Consider imputing the data with values other than zero\n",
    "raw_dataset = pd.read_csv('../data/exp/pneumonia-t3/timestep.filtered.csv', header=0, index_col=0)\n",
    "df = raw_dataset.copy()\n",
    "\n",
    "# One hot encode the demographic columns\n",
    "cols_to_one_hot = ['gender', 'insurance', 'language', 'religion', 'marital_status', 'ethnicity']\n",
    "for col in cols_to_one_hot:\n",
    "    one_hot = pd.get_dummies(df[col], col)\n",
    "    df = df.drop(col, axis = 1)\n",
    "    df = df.join(one_hot)\n",
    "\n",
    "los = df.pop('los')\n",
    "df.pop('status') # Not in use for this analysis\n",
    "timesteps = df.pop('timestep') # Temporarily removed so we don't scale this\n",
    "\n",
    "print(\"Num rows in data: \" + str(len(df)))\n",
    "print(\"Num columns before feature selection: \" + str(len(df.columns)))\n",
    "df = df.filter(['Hematocrit', 'Hemoglobin', 'MCHC-trend', 'MCV-trend',\n",
    "       'Neutrophils', 'Platelet Count', 'Red Blood Cells', 'Lactate',\n",
    "       'Oxygen Saturation', 'Temperature', 'Oxygen', 'PEEP', 'Tidal Volume',\n",
    "       'Albumin', 'Free Calcium', 'Sodium, Whole Blood', 'NTproBNP',\n",
    "       'Hematocrit, Calculated', 'Chloride, Whole Blood',\n",
    "       'Fibrinogen, Functional', 'Amylase', 'FENT2I', 'CHLO15L', 'PRED20',\n",
    "       'CEFX1F', 'KCL20PM', 'SENN187', 'MIDA50I', 'DOCU100', 'NACLFLUSH',\n",
    "       'ALBU3H', 'IPRA2H', 'ASA81', 'NS250', 'PROP100IG', 'PNEU25I', 'PANT40I',\n",
    "       'HEPA5I', 'LEV250', 'LORA2I', 'LR1000', 'KCLBASE2', 'METO25', 'MAGS1I',\n",
    "       'ZITHR250', 'NS100', 'D5W250', 'CALG1I', 'Heart Rate', 'Diastolic',\n",
    "       'Systolic', 'O2 Flow.1', 'O2 Flow-trend.1', 'Respiratory Rate', 'O2',\n",
    "       'insurance_Medicaid', 'insurance_Medicare', 'insurance_Private'])\n",
    "print(\"Num columns after feature selection: \" + str(len(df.columns)))\n",
    "\n",
    "#\n",
    "# Normalize the dataset\n",
    "#\n",
    "train_stats = df.describe()\n",
    "train_stats = train_stats.transpose()\n",
    "scaled_features = StandardScaler().fit_transform(df.values)\n",
    "df = pd.DataFrame(scaled_features, index=df.index, columns=df.columns)\n",
    "df.insert(0, \"timestep\", timesteps, True)\n",
    "#df[[\"timestep\", \"Heart Rate\"]]"
   ]
  },
  {
   "cell_type": "code",
   "execution_count": 126,
   "metadata": {},
   "outputs": [
    {
     "data": {
      "text/plain": [
       "(43,)"
      ]
     },
     "execution_count": 126,
     "metadata": {},
     "output_type": "execute_result"
    }
   ],
   "source": [
    "\n",
    "window_size = 3\n",
    "max_sequence_length = 10\n",
    "num_features = len(df.values[0]) - 1 # -1 accounts for the timestep column we are removing\n",
    "\n",
    "lstm_input = []\n",
    "lstm_los = []\n",
    "\n",
    "\n",
    "##### CREATE A SQUARE MATRIX REPRESENTING PATIENT SEQUENCES WITH ONE OUTPUT #####\n",
    "# 0,       0, x[0, 1], x[0, 2] -> y[0]\n",
    "# 0, x[1, 1], x[1, 2], x[1, 3] -> y[1]\n",
    "# This strategy uses stateless LSTM. We could use stateful LSTM and manually update at each timepoint in each patient \n",
    "# sequence, but this is extremely slow (note state is manually reset only after each patient sequence is finished). \n",
    "# https://github.com/umbertogriffo/Predictive-Maintenance-using-LSTM\n",
    "\n",
    "# Data frame is assumed to be sorted in order of timesteps for each patient\n",
    "vals = df.values\n",
    "i = 0\n",
    "while i < len(vals):\n",
    "    row = vals[i]\n",
    "    timestep = row[0]\n",
    "    remaining_los = los[i]\n",
    "    patient_sequence = []\n",
    "    start_i = i\n",
    "    i += 1\n",
    "    # Skip until the next patient sequence\n",
    "    while i < len(vals) and vals[i][0] != 0:\n",
    "        i += 1\n",
    "    end_i = i\n",
    "    \n",
    "    if end_i - start_i < window_size:\n",
    "        # Consider removing these patient samples\n",
    "        # Note: We need to front-pad the sequence with zeros in order to make sure we have a rectangular input\n",
    "        for _ in range(window_size - (end_i - start_i)):\n",
    "            patient_sequence.insert(0, [0] * num_features)\n",
    "        r = start_i\n",
    "        while r < end_i:\n",
    "            patient_sequence.append(vals[r, 1:])\n",
    "            r += 1\n",
    "        lstm_input.append(patient_sequence)\n",
    "        lstm_los.append(remaining_los - window_size)\n",
    "    else:\n",
    "        # Create our sliding window data\n",
    "        for offset in range(min(max_sequence_length, (end_i - start_i) - window_size + 1)):\n",
    "            patient_sequence = []\n",
    "            r = start_i + offset\n",
    "            while r < start_i + offset + window_size:\n",
    "                patient_sequence.append(vals[r, 1:])\n",
    "                r += 1\n",
    "            lstm_input.append(patient_sequence)\n",
    "            lstm_los.append(remaining_los - offset - window_size)\n",
    "        \n",
    "lstm_input = np.array(lstm_input)\n",
    "lstm_los = np.array(lstm_los)\n",
    "lstm_input[0][0].shape\n",
    "# lstm_input[0][0]\n",
    "# lstm_los[4]"
   ]
  },
  {
   "cell_type": "code",
   "execution_count": 139,
   "metadata": {},
   "outputs": [
    {
     "name": "stdout",
     "output_type": "stream",
     "text": [
      "Model: \"sequential_10\"\n",
      "_________________________________________________________________\n",
      "Layer (type)                 Output Shape              Param #   \n",
      "=================================================================\n",
      "lstm_16 (LSTM)               (None, 3, 96)             53760     \n",
      "_________________________________________________________________\n",
      "dropout_1 (Dropout)          (None, 3, 96)             0         \n",
      "_________________________________________________________________\n",
      "lstm_17 (LSTM)               (None, 64)                41216     \n",
      "_________________________________________________________________\n",
      "dropout_2 (Dropout)          (None, 64)                0         \n",
      "_________________________________________________________________\n",
      "dense_20 (Dense)             (None, 32)                2080      \n",
      "_________________________________________________________________\n",
      "dense_21 (Dense)             (None, 1)                 33        \n",
      "=================================================================\n",
      "Total params: 97,089\n",
      "Trainable params: 97,089\n",
      "Non-trainable params: 0\n",
      "_________________________________________________________________\n"
     ]
    }
   ],
   "source": [
    "# https://stats.stackexchange.com/questions/181/how-to-choose-the-number-of-hidden-layers-and-nodes-in-a-feedforward-neural-netw\n",
    "def build_model():\n",
    "  # Notes:\n",
    "  # - Use batch_input_shape=(batch_size, # timesteps, # features) param if using Stateful \n",
    "  #   (we're dynamically controlling the state at that point - ie. we can have varying sequence lengths)\n",
    "    \n",
    "  model = keras.Sequential([\n",
    "    layers.LSTM(96, input_shape=(window_size, num_features), return_sequences=True, stateful=False),\n",
    "    layers.Dropout(0.5, name='dropout_1'),\n",
    "    layers.LSTM(64, input_shape=(window_size, num_features), stateful=False),\n",
    "    layers.Dropout(0.5, name='dropout_2'),\n",
    "    layers.Dense(32, activation='relu', input_shape=[num_features]),\n",
    "    layers.Dense(1)\n",
    "  ])\n",
    "\n",
    "  optimizer = 'adam'\n",
    "\n",
    "  model.compile(loss='mse',\n",
    "                optimizer=optimizer,\n",
    "                metrics=['mae', 'mse'])\n",
    "  return model\n",
    "\n",
    "model = build_model()\n",
    "model.summary()"
   ]
  },
  {
   "cell_type": "code",
   "execution_count": 140,
   "metadata": {},
   "outputs": [
    {
     "name": "stdout",
     "output_type": "stream",
     "text": [
      "\n",
      "........................."
     ]
    }
   ],
   "source": [
    "# Display training progress by printing a single dot for each completed epoch\n",
    "class PrintDot(keras.callbacks.Callback):\n",
    "  def on_epoch_end(self, epoch, logs):\n",
    "    if epoch % 100 == 0: print('')\n",
    "    print('.', end='')\n",
    "\n",
    "EPOCHS = 25\n",
    "\n",
    "# Batch size defaults to 32\n",
    "history = model.fit(\n",
    "  lstm_input, lstm_los,\n",
    "  batch_size=window_size,\n",
    "  epochs=EPOCHS, validation_split = 0.3, verbose=0,\n",
    "  callbacks=[PrintDot()])\n"
   ]
  },
  {
   "cell_type": "code",
   "execution_count": 143,
   "metadata": {},
   "outputs": [
    {
     "data": {
      "text/html": [
       "<div>\n",
       "<style scoped>\n",
       "    .dataframe tbody tr th:only-of-type {\n",
       "        vertical-align: middle;\n",
       "    }\n",
       "\n",
       "    .dataframe tbody tr th {\n",
       "        vertical-align: top;\n",
       "    }\n",
       "\n",
       "    .dataframe thead th {\n",
       "        text-align: right;\n",
       "    }\n",
       "</style>\n",
       "<table border=\"1\" class=\"dataframe\">\n",
       "  <thead>\n",
       "    <tr style=\"text-align: right;\">\n",
       "      <th></th>\n",
       "      <th>loss</th>\n",
       "      <th>mae</th>\n",
       "      <th>mse</th>\n",
       "      <th>val_loss</th>\n",
       "      <th>val_mae</th>\n",
       "      <th>val_mse</th>\n",
       "      <th>epoch</th>\n",
       "    </tr>\n",
       "  </thead>\n",
       "  <tbody>\n",
       "    <tr>\n",
       "      <th>20</th>\n",
       "      <td>32.651344</td>\n",
       "      <td>4.032150</td>\n",
       "      <td>32.651379</td>\n",
       "      <td>133.163359</td>\n",
       "      <td>6.957357</td>\n",
       "      <td>133.163406</td>\n",
       "      <td>20</td>\n",
       "    </tr>\n",
       "    <tr>\n",
       "      <th>21</th>\n",
       "      <td>32.428986</td>\n",
       "      <td>3.992832</td>\n",
       "      <td>32.428955</td>\n",
       "      <td>127.604218</td>\n",
       "      <td>6.970033</td>\n",
       "      <td>127.604111</td>\n",
       "      <td>21</td>\n",
       "    </tr>\n",
       "    <tr>\n",
       "      <th>22</th>\n",
       "      <td>31.510704</td>\n",
       "      <td>3.943518</td>\n",
       "      <td>31.510700</td>\n",
       "      <td>134.668808</td>\n",
       "      <td>7.163323</td>\n",
       "      <td>134.668762</td>\n",
       "      <td>22</td>\n",
       "    </tr>\n",
       "    <tr>\n",
       "      <th>23</th>\n",
       "      <td>30.107398</td>\n",
       "      <td>3.865839</td>\n",
       "      <td>30.107347</td>\n",
       "      <td>141.388302</td>\n",
       "      <td>7.109152</td>\n",
       "      <td>141.388367</td>\n",
       "      <td>23</td>\n",
       "    </tr>\n",
       "    <tr>\n",
       "      <th>24</th>\n",
       "      <td>31.216855</td>\n",
       "      <td>3.876715</td>\n",
       "      <td>31.216835</td>\n",
       "      <td>133.770410</td>\n",
       "      <td>7.203954</td>\n",
       "      <td>133.770462</td>\n",
       "      <td>24</td>\n",
       "    </tr>\n",
       "  </tbody>\n",
       "</table>\n",
       "</div>"
      ],
      "text/plain": [
       "         loss       mae        mse    val_loss   val_mae     val_mse  epoch\n",
       "20  32.651344  4.032150  32.651379  133.163359  6.957357  133.163406     20\n",
       "21  32.428986  3.992832  32.428955  127.604218  6.970033  127.604111     21\n",
       "22  31.510704  3.943518  31.510700  134.668808  7.163323  134.668762     22\n",
       "23  30.107398  3.865839  30.107347  141.388302  7.109152  141.388367     23\n",
       "24  31.216855  3.876715  31.216835  133.770410  7.203954  133.770462     24"
      ]
     },
     "execution_count": 143,
     "metadata": {},
     "output_type": "execute_result"
    }
   ],
   "source": [
    "hist = pd.DataFrame(history.history)\n",
    "hist['epoch'] = history.epoch\n",
    "hist.tail()"
   ]
  },
  {
   "cell_type": "code",
   "execution_count": 144,
   "metadata": {},
   "outputs": [
    {
     "data": {
      "image/png": "[encoded data removed]",
      "text/plain": [
       "<matplotlib.figure.Figure at 0x15ab179b0>"
      ]
     },
     "metadata": {
      "needs_background": "light"
     },
     "output_type": "display_data"
    }
   ],
   "source": [
    "def plot_history(history):\n",
    "  hist = pd.DataFrame(history.history)\n",
    "  hist['epoch'] = history.epoch\n",
    "\n",
    "  plt.figure()\n",
    "  plt.xlabel('Epoch')\n",
    "  plt.ylabel('Mean Abs Error [los]')\n",
    "  plt.plot(hist['epoch'], hist['mae'],\n",
    "           label='Train Error')\n",
    "  plt.plot(hist['epoch'], hist['val_mae'],\n",
    "           label = 'Val Error')\n",
    "  plt.ylim([0,max(hist['val_mae'])])\n",
    "  plt.legend()\n",
    "\n",
    "  plt.show()\n",
    "\n",
    "\n",
    "plot_history(history)\n"
   ]
  },
  {
   "cell_type": "code",
   "execution_count": null,
   "metadata": {},
   "outputs": [],
   "source": []
  }
 ],
 "metadata": {
  "kernelspec": {
   "display_name": "Python 3",
   "language": "python",
   "name": "python3"
  },
  "language_info": {
   "codemirror_mode": {
    "name": "ipython",
    "version": 3
   },
   "file_extension": ".py",
   "mimetype": "text/x-python",
   "name": "python",
   "nbconvert_exporter": "python",
   "pygments_lexer": "ipython3",
   "version": "3.6.3"
  }
 },
 "nbformat": 4,
 "nbformat_minor": 2
}
