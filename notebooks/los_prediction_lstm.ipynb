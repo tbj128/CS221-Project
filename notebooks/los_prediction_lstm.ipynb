{
  "nbformat": 4,
  "nbformat_minor": 0,
  "metadata": {
    "kernelspec": {
      "display_name": "Python 3",
      "language": "python",
      "name": "python3"
    },
    "language_info": {
      "codemirror_mode": {
        "name": "ipython",
        "version": 3
      },
      "file_extension": ".py",
      "mimetype": "text/x-python",
      "name": "python",
      "nbconvert_exporter": "python",
      "pygments_lexer": "ipython3",
      "version": "3.6.3"
    },
    "colab": {
      "name": "los_prediction_lstm.ipynb",
      "provenance": [],
      "toc_visible": true
    }
  },
  "cells": [
    {
      "cell_type": "markdown",
      "metadata": {
        "id": "Mb-EgxaWEaf9",
        "colab_type": "text"
      },
      "source": [
        "# LOS Prediction - LSTM for Time-Based Data\n",
        "\n",
        "This notebook performs LOS prediction on data from the first X days from each patient. The goal is to utilize more of the dataset in order to see how the performance changes with respect to a standard DNN that only uses data from the first 24 or 48 hours."
      ]
    },
    {
      "cell_type": "code",
      "metadata": {
        "id": "bs0HiqKXEagF",
        "colab_type": "code",
        "outputId": "315267bf-6afa-4211-e1e7-d7928e12dcab",
        "colab": {
          "base_uri": "https://localhost:8080/",
          "height": 219
        }
      },
      "source": [
        "###\n",
        "#\n",
        "# Imports Block\n",
        "#\n",
        "###\n",
        "\n",
        "from __future__ import absolute_import, division, print_function, unicode_literals\n",
        "\n",
        "import pathlib\n",
        "\n",
        "import matplotlib.pyplot as plt\n",
        "import pandas as pd\n",
        "import seaborn as sns\n",
        "\n",
        "import tensorflow as tf\n",
        "\n",
        "from tensorflow import keras\n",
        "from tensorflow.keras import layers\n",
        "from keras.layers.advanced_activations import LeakyReLU\n",
        "from google.colab import drive\n",
        "import numpy as np\n",
        "\n",
        "print(tf.__version__)\n",
        "\n",
        "drive.mount('/content/drive')"
      ],
      "execution_count": 0,
      "outputs": [
        {
          "output_type": "display_data",
          "data": {
            "text/html": [
              "<p style=\"color: red;\">\n",
              "The default version of TensorFlow in Colab will soon switch to TensorFlow 2.x.<br>\n",
              "We recommend you <a href=\"https://www.tensorflow.org/guide/migrate\" target=\"_blank\">upgrade</a> now \n",
              "or ensure your notebook will continue to use TensorFlow 1.x via the <code>%tensorflow_version 1.x</code> magic:\n",
              "<a href=\"https://colab.research.google.com/notebooks/tensorflow_version.ipynb\" target=\"_blank\">more info</a>.</p>\n"
            ],
            "text/plain": [
              "<IPython.core.display.HTML object>"
            ]
          },
          "metadata": {
            "tags": []
          }
        },
        {
          "output_type": "stream",
          "text": [
            "Using TensorFlow backend.\n"
          ],
          "name": "stderr"
        },
        {
          "output_type": "stream",
          "text": [
            "1.15.0\n",
            "Go to this URL in a browser: https://accounts.google.com/o/oauth2/auth?client_id=947318989803-6bn6qk8qdgf4n4g3pfee6491hc0brc4i.apps.googleusercontent.com&redirect_uri=urn%3aietf%3awg%3aoauth%3a2.0%3aoob&response_type=code&scope=email%20https%3a%2f%2fwww.googleapis.com%2fauth%2fdocs.test%20https%3a%2f%2fwww.googleapis.com%2fauth%2fdrive%20https%3a%2f%2fwww.googleapis.com%2fauth%2fdrive.photos.readonly%20https%3a%2f%2fwww.googleapis.com%2fauth%2fpeopleapi.readonly\n",
            "\n",
            "Enter your authorization code:\n",
            "··········\n",
            "Mounted at /content/drive\n"
          ],
          "name": "stdout"
        }
      ]
    },
    {
      "cell_type": "code",
      "metadata": {
        "scrolled": true,
        "id": "nCqs-Sw4Eagf",
        "colab_type": "code",
        "outputId": "0bf818fb-12d0-438f-e2d7-0685a5656a83",
        "colab": {
          "base_uri": "https://localhost:8080/",
          "height": 255
        }
      },
      "source": [
        "###\n",
        "#\n",
        "# Data Import and Conversion to 3D Array\n",
        "#\n",
        "###\n",
        "from sklearn.preprocessing import StandardScaler\n",
        "from sklearn.feature_selection import f_regression, mutual_info_regression, SelectKBest\n",
        "from sklearn.linear_model import SGDClassifier, SGDRegressor, LogisticRegression, LinearRegression\n",
        "from sklearn.metrics import mean_squared_error, mean_absolute_error\n",
        "from sklearn.model_selection import train_test_split\n",
        "from sklearn.preprocessing import LabelEncoder\n",
        "from sklearn.feature_selection import SelectFromModel\n",
        "from sklearn.linear_model import ElasticNet\n",
        "from math import sqrt\n",
        "\n",
        "# Consider imputing the data with values other than zero\n",
        "raw_dataset = pd.read_csv('/content/drive/My Drive/Stanford/CS221/timestep.filtered.csv', header=0, index_col=0)\n",
        "df = raw_dataset.copy()\n",
        "\n",
        "# One hot encode the demographic columns\n",
        "cols_to_one_hot = ['gender', 'insurance', 'language', 'religion', 'marital_status', 'ethnicity']\n",
        "for col in cols_to_one_hot:\n",
        "    one_hot = pd.get_dummies(df[col], col)\n",
        "    df = df.drop(col, axis = 1)\n",
        "    df = df.join(one_hot)\n",
        "\n",
        "df = df.loc[:, (df==0).mean() < .9]\n",
        "df = df[df['los'] <= 100]\n",
        "\n",
        "los = df.pop('los').values\n",
        "\n",
        "\n",
        "# df.pop('status') # Not in use for this analysis\n",
        "timesteps = df.pop('timestep') # Temporarily removed so we don't scale this\n",
        "\n",
        "#\n",
        "# Manual feature selection \n",
        "#\n",
        "# print(\"Num rows in data: \" + str(len(df)))\n",
        "# print(\"Num columns before feature selection: \" + str(len(df.columns)))\n",
        "# df = df.filter(['Systolic', 'Diastolic', 'age', 'Anion Gap', 'Platelet Count', 'Heart Rate', 'O2-trend', 'Bicarbonate-trend', 'Phosphate', 'MCV-trend', 'White Blood Cells-trend', 'Neutrophils', 'Lactate', 'White Blood Cells', 'RDW', 'Lactate Dehydrogenase (LD)'])\n",
        "# print(\"Num columns after feature selection: \" + str(len(df.columns)))\n",
        "\n",
        "#\n",
        "# Normalize the dataset\n",
        "#\n",
        "train_stats = df.describe()\n",
        "train_stats = train_stats.transpose()\n",
        "scaled_features = StandardScaler().fit_transform(df.values)\n",
        "df = pd.DataFrame(scaled_features, index=df.index, columns=df.columns)\n",
        "\n",
        "# #\n",
        "# # Feature selection based on f_regression\n",
        "# #\n",
        "# from sklearn.feature_selection import f_regression, mutual_info_regression, SelectKBest\n",
        "# from statsmodels.stats.multitest import multipletests\n",
        "# print(\"Num rows in data: \" + str(len(df)))\n",
        "# print(\"Num columns before feature selection: \" + str(len(df.columns)))\n",
        "# sfm = SelectKBest(f_regression, k=64)\n",
        "# sfm.fit(df, los)\n",
        "# feature_idx = sfm.get_support()\n",
        "# df = df.loc[:,feature_idx]\n",
        "# print(\"Num columns after feature selection: \" + str(len(df.columns)))\n",
        "# print(df.columns)\n",
        "\n",
        "\n",
        "# RUN FEATURE SELECTION BASED ON ELASTIC NET LINEAR REGRESSION\n",
        "elastic = ElasticNet(l1_ratio=0.35, max_iter=10000)\n",
        "elastic.fit(df, los)\n",
        "coef = pd.Series(elastic.coef_, index = df.columns)\n",
        "# features = coef.abs().sort_values(ascending=False).head(64).index\n",
        "features = df.columns[coef != 0]\n",
        "df = df[list(features)]\n",
        "print(features)\n",
        "print(\"Num columns after feature selection: \" + str(len(df.columns)))\n",
        "\n",
        "\n",
        "df.insert(0, \"timestep\", timesteps, True)\n",
        "print(len(df.values))\n",
        "\n"
      ],
      "execution_count": 34,
      "outputs": [
        {
          "output_type": "stream",
          "text": [
            "Index(['age', 'Hematocrit', 'Hemoglobin', 'Lymphocytes', 'Monocytes',\n",
            "       'Platelet Count', 'Red Blood Cells', 'Urea Nitrogen', 'pCO2', 'pH',\n",
            "       'pO2', 'Phosphate', 'Oxygen Saturation', 'PEEP', 'Albumin',\n",
            "       'Alkaline Phosphatase', 'Lactate Dehydrogenase (LD)',\n",
            "       'Potassium, Whole Blood', 'Free Calcium', 'NS250', 'IPRAPF', 'VIAL',\n",
            "       'ALBU3H', 'NS/MBP100I', 'NS1000', 'ONDAN4I', 'HEPA10SYR', 'SENN187',\n",
            "       'KCL20PM', 'D5W100', 'NYST5L', 'METO50', 'METO25', 'HEPA5I', 'NS100',\n",
            "       'MAG2PM', 'CALG1I', 'LORA2I', 'IPRA2H', 'NACLFLUSH', 'BISA10R',\n",
            "       'D5W250', 'OXYC5', 'KCLBASE2', 'ASA325', 'Systolic', 'O2 Flow.1', 'O2',\n",
            "       'insurance_Medicaid', 'insurance_Medicare', 'language_0',\n",
            "       'language_ENGL', 'marital_status_SINGLE'],\n",
            "      dtype='object')\n",
            "Num columns after feature selection: 53\n",
            "50871\n"
          ],
          "name": "stdout"
        }
      ]
    },
    {
      "cell_type": "code",
      "metadata": {
        "id": "yVMe_ncwEagt",
        "colab_type": "code",
        "outputId": "bd9033ae-f151-4d24-f7d8-291f968ab5f2",
        "colab": {
          "base_uri": "https://localhost:8080/",
          "height": 170
        }
      },
      "source": [
        "\n",
        "window_size = 5\n",
        "max_sequence_length = 10\n",
        "num_features = len(df.values[0]) - 1 # -1 accounts for the timestep column we are removing\n",
        "\n",
        "lstm_input = []\n",
        "lstm_los = []\n",
        "\n",
        "\n",
        "##### CREATE A SQUARE MATRIX REPRESENTING PATIENT SEQUENCES WITH ONE OUTPUT #####\n",
        "# 0,       0, x[0, 1], x[0, 2] -> y[0]\n",
        "# 0, x[1, 1], x[1, 2], x[1, 3] -> y[1]\n",
        "# This strategy uses stateless LSTM. We could use stateful LSTM and manually update at each timepoint in each patient \n",
        "# sequence, but this is extremely slow (note state is manually reset only after each patient sequence is finished). \n",
        "# https://github.com/umbertogriffo/Predictive-Maintenance-using-LSTM\n",
        "\n",
        "# Data frame is assumed to be sorted in order of timesteps for each patient\n",
        "vals = df.values\n",
        "i = 0\n",
        "while i < len(vals):\n",
        "    row = vals[i]\n",
        "    timestep = row[0]\n",
        "    remaining_los = los[i]\n",
        "    patient_sequence = []\n",
        "    start_i = i\n",
        "    i += 1\n",
        "    # Skip until the next patient sequence\n",
        "    while i < len(vals) and vals[i][0] != 0:\n",
        "        i += 1\n",
        "    end_i = i\n",
        "    \n",
        "    if end_i - start_i < window_size:\n",
        "        # Consider removing these patient samples\n",
        "        # Note: We need to front-pad the sequence with zeros in order to make sure we have a rectangular input\n",
        "        for _ in range(window_size - (end_i - start_i)):\n",
        "            patient_sequence.insert(0, [0] * num_features)\n",
        "        r = start_i\n",
        "        while r < end_i:\n",
        "            patient_sequence.append(vals[r, 1:])\n",
        "            r += 1\n",
        "\n",
        "        #######################################################\n",
        "        # COMMENT BELOW IF WE DON'T WANT TO KEEP SHORT SEQUENCES\n",
        "        #######################################################\n",
        "        #lstm_input.append(patient_sequence)\n",
        "        #lstm_los.append(remaining_los - window_size)\n",
        "    else:\n",
        "        # Create our sliding window data\n",
        "        for offset in range(min(max_sequence_length, (end_i - start_i) - window_size + 1)):\n",
        "            patient_sequence = []\n",
        "            r = start_i + offset\n",
        "            while r < start_i + offset + window_size:\n",
        "                patient_sequence.append(vals[r, 1:])\n",
        "                r += 1\n",
        "            lstm_input.append(patient_sequence)\n",
        "            lstm_los.append(remaining_los - offset - window_size)\n",
        "\n",
        "            #######################################################\n",
        "            # COMMENT BELOW IF WE WANT TO USE SLIDING WINDOW\n",
        "            #######################################################\n",
        "            break\n",
        "        \n",
        "lstm_input = np.array(lstm_input)\n",
        "lstm_los = np.array(lstm_los)\n",
        "lstm_los_cat = [[1 if a[0] else 0, 1 if a[1] else 0] for a in zip(lstm_los <= 10.75, lstm_los > 10.75)]\n",
        "lstm_los_cat = np.array(lstm_los_cat)\n",
        "\n",
        "indices = np.random.permutation(lstm_input.shape[0])\n",
        "print(indices)\n",
        "div_point = int(len(lstm_input) * 0.7)\n",
        "training_idx, test_idx = indices[:div_point], indices[div_point:]\n",
        "train_dataset, test_dataset = lstm_input[training_idx,:], lstm_input[test_idx,:]\n",
        "train_labels, test_labels = lstm_los[training_idx], lstm_los[test_idx]\n",
        "\n",
        "#######################################################\n",
        "# UNCOMMENT BELOW IF WE WANT TO LIMIT NUM OF SAMPLES\n",
        "#######################################################\n",
        "# lstm_input = lstm_input[:2000, :]\n",
        "# lstm_los = lstm_los[:2000]\n",
        "\n",
        "print(\"Number of samples = \" + str(len(lstm_los)))\n",
        "#lstm_input[1]\n",
        "# lstm_input[0][0]\n",
        "# lstm_los[4]\n",
        "print(lstm_los_cat)"
      ],
      "execution_count": 35,
      "outputs": [
        {
          "output_type": "stream",
          "text": [
            "[ 985 3182  445 ...  954 1021 2572]\n",
            "Number of samples = 3437\n",
            "[[1 0]\n",
            " [0 1]\n",
            " [1 0]\n",
            " ...\n",
            " [1 0]\n",
            " [1 0]\n",
            " [1 0]]\n"
          ],
          "name": "stdout"
        }
      ]
    },
    {
      "cell_type": "code",
      "metadata": {
        "id": "kITwVqSREagz",
        "colab_type": "code",
        "outputId": "3da4e859-dc80-46bd-e847-9c4ba6cd78f0",
        "colab": {
          "base_uri": "https://localhost:8080/",
          "height": 255
        }
      },
      "source": [
        "from keras import regularizers\n",
        "from keras.models import Sequential\n",
        "from keras.layers import LSTM\n",
        "from keras.layers import Dense\n",
        "from keras.layers import Flatten\n",
        "from keras.layers import Dropout\n",
        "from keras.layers.convolutional import Conv1D\n",
        "from keras.layers.convolutional import MaxPooling1D\n",
        "from keras.utils import to_categorical\n",
        "\n",
        "# num hidden = (2408) / (alpha * (64 + 1)) = 26 (@ alpha = 2)\n",
        "\n",
        "# https://stats.stackexchange.com/questions/181/how-to-choose-the-number-of-hidden-layers-and-nodes-in-a-feedforward-neural-netw\n",
        "def build_model():\n",
        "  # Notes:\n",
        "  # - Use batch_input_shape=(batch_size, # timesteps, # features) param if using Stateful \n",
        "  #   (we're dynamically controlling the state at that point - ie. we can have varying sequence lengths)\n",
        "    \n",
        "  model = Sequential([\n",
        "    # Trial 1\n",
        "    # val = 6.174688288051363\n",
        "    # LSTM(32, input_shape=(window_size, num_features), return_sequences=True, dropout=0.5, stateful=False),\n",
        "    # LSTM(32, input_shape=(window_size, num_features), return_sequences=True, dropout=0.5, stateful=False),\n",
        "    # LSTM(32, input_shape=(window_size, num_features), dropout=0.5, stateful=False), \n",
        "    \n",
        "    \n",
        "    #layers.LSTM(32, input_shape=(window_size, num_features), return_sequences=True, stateful=False, dropout=0.3, recurrent_dropout=0.3, recurrent_regularizer=regularizers.l1_l2(0.01, 0.01)),\n",
        "    LSTM(12, input_shape=(window_size, num_features), return_sequences=True, dropout=0.5, stateful=False),\n",
        "    # LSTM(26, input_shape=(window_size, num_features), return_sequences=True, dropout=0.5, stateful=False),\n",
        "    LSTM(12, input_shape=(window_size, num_features), dropout=0.5, stateful=False),\n",
        "    # layers.Dropout(0.5, name='dropout_2'),\n",
        "    #layers.Dense(64, activation='relu', input_shape=[num_features]),\n",
        "    #layers.Dropout(0.5, name='dropout_2'),\n",
        "    #layers.Dense(32, activation='relu', input_shape=[num_features]),\n",
        "    Dense(1)\n",
        "  ])\n",
        "\n",
        "  optimizer = 'adam'\n",
        "\n",
        "  model.compile(loss='mse',\n",
        "                optimizer=optimizer,\n",
        "                metrics=['mae', 'mse'])\n",
        "  return model\n",
        "\n",
        "def build_cnn():\n",
        "  model = Sequential()\n",
        "  model.add(Conv1D(filters=64, kernel_size=3, activation='relu', input_shape=(window_size,num_features)))\n",
        "  model.add(Conv1D(filters=64, kernel_size=3, activation='relu'))\n",
        "  model.add(Dropout(0.5))\n",
        "  model.add(MaxPooling1D(pool_size=2, padding='same'))\n",
        "  model.add(Flatten())\n",
        "  model.add(Dense(64, activation='relu'))\n",
        "  model.add(Dense(1))\n",
        "  model.compile(loss='mse', optimizer='adam', metrics=['mae', 'mse'])\n",
        "  return model\n",
        "\n",
        "def build_cnn_cat():\n",
        "  model = Sequential()\n",
        "  model.add(Conv1D(filters=64, kernel_size=3, activation='relu', input_shape=(window_size,num_features)))\n",
        "  model.add(Conv1D(filters=64, kernel_size=3, activation='relu'))\n",
        "  model.add(Dropout(0.5))\n",
        "  model.add(MaxPooling1D(pool_size=2, padding='same'))\n",
        "  model.add(Flatten())\n",
        "  model.add(Dense(64, activation='relu'))\n",
        "  model.add(Dense(2, activation='softmax'))\n",
        "  model.compile(loss='categorical_crossentropy', optimizer='adam', metrics=['accuracy'])\n",
        "  return model\n",
        "\n",
        "model = build_model()\n",
        "# model = build_cnn_cat()\n",
        "model.summary()"
      ],
      "execution_count": 36,
      "outputs": [
        {
          "output_type": "stream",
          "text": [
            "Model: \"sequential_6\"\n",
            "_________________________________________________________________\n",
            "Layer (type)                 Output Shape              Param #   \n",
            "=================================================================\n",
            "lstm_11 (LSTM)               (None, 5, 12)             3168      \n",
            "_________________________________________________________________\n",
            "lstm_12 (LSTM)               (None, 12)                1200      \n",
            "_________________________________________________________________\n",
            "dense_6 (Dense)              (None, 1)                 13        \n",
            "=================================================================\n",
            "Total params: 4,381\n",
            "Trainable params: 4,381\n",
            "Non-trainable params: 0\n",
            "_________________________________________________________________\n"
          ],
          "name": "stdout"
        }
      ]
    },
    {
      "cell_type": "code",
      "metadata": {
        "id": "FqiZ5uCWEag5",
        "colab_type": "code",
        "outputId": "9d7e2f62-b222-482d-94eb-f6973f494a9d",
        "colab": {
          "base_uri": "https://localhost:8080/",
          "height": 1000
        }
      },
      "source": [
        "# Display training progress by printing a single dot for each completed epoch\n",
        "class PrintDot(keras.callbacks.Callback):\n",
        "  def on_epoch_end(self, epoch, logs):\n",
        "    if epoch % 100 == 0: print('')\n",
        "    print('.', end='')\n",
        "\n",
        "EPOCHS = 50\n",
        "\n",
        "# # Batch size defaults to 32\n",
        "history = model.fit(\n",
        "  lstm_input, lstm_los,\n",
        "  batch_size=1,\n",
        "  epochs=EPOCHS, validation_split = 0.3, verbose=1,\n",
        "  callbacks=[PrintDot()])\n",
        "\n",
        "#### CAT ####\n",
        "# Batch size defaults to 32\n",
        "# history = model.fit(\n",
        "#   train_dataset, train_labels,\n",
        "#   batch_size=1,\n",
        "#   epochs=EPOCHS, validation_split = 0.3, verbose=1)\n"
      ],
      "execution_count": 37,
      "outputs": [
        {
          "output_type": "stream",
          "text": [
            "Train on 2405 samples, validate on 1032 samples\n",
            "Epoch 1/50\n",
            "2405/2405 [==============================] - 26s 11ms/step - loss: 120.7879 - mean_absolute_error: 7.1544 - mean_squared_error: 120.7879 - val_loss: 117.4261 - val_mean_absolute_error: 7.2520 - val_mean_squared_error: 117.4261\n",
            "\n",
            ".Epoch 2/50\n",
            "2405/2405 [==============================] - 23s 10ms/step - loss: 104.4475 - mean_absolute_error: 6.8567 - mean_squared_error: 104.4475 - val_loss: 110.4172 - val_mean_absolute_error: 6.8731 - val_mean_squared_error: 110.4172\n",
            ".Epoch 3/50\n",
            "2405/2405 [==============================] - 23s 10ms/step - loss: 100.7119 - mean_absolute_error: 6.7468 - mean_squared_error: 100.7119 - val_loss: 107.4389 - val_mean_absolute_error: 6.5618 - val_mean_squared_error: 107.4389\n",
            ".Epoch 4/50\n",
            "2405/2405 [==============================] - 23s 10ms/step - loss: 98.8074 - mean_absolute_error: 6.7029 - mean_squared_error: 98.8074 - val_loss: 105.0291 - val_mean_absolute_error: 6.4069 - val_mean_squared_error: 105.0291\n",
            ".Epoch 5/50\n",
            "2405/2405 [==============================] - 24s 10ms/step - loss: 96.5117 - mean_absolute_error: 6.5693 - mean_squared_error: 96.5117 - val_loss: 102.3499 - val_mean_absolute_error: 6.4023 - val_mean_squared_error: 102.3499\n",
            ".Epoch 6/50\n",
            "2405/2405 [==============================] - 23s 9ms/step - loss: 95.4424 - mean_absolute_error: 6.5353 - mean_squared_error: 95.4424 - val_loss: 101.8759 - val_mean_absolute_error: 6.4157 - val_mean_squared_error: 101.8759\n",
            ".Epoch 7/50\n",
            "2405/2405 [==============================] - 23s 10ms/step - loss: 94.5094 - mean_absolute_error: 6.5046 - mean_squared_error: 94.5094 - val_loss: 102.0563 - val_mean_absolute_error: 6.2386 - val_mean_squared_error: 102.0563\n",
            ".Epoch 8/50\n",
            "2405/2405 [==============================] - 23s 9ms/step - loss: 93.9871 - mean_absolute_error: 6.5187 - mean_squared_error: 93.9871 - val_loss: 101.5111 - val_mean_absolute_error: 6.3640 - val_mean_squared_error: 101.5111\n",
            ".Epoch 9/50\n",
            "2405/2405 [==============================] - 22s 9ms/step - loss: 91.5411 - mean_absolute_error: 6.4364 - mean_squared_error: 91.5411 - val_loss: 101.4677 - val_mean_absolute_error: 6.2162 - val_mean_squared_error: 101.4677\n",
            ".Epoch 10/50\n",
            "2405/2405 [==============================] - 23s 9ms/step - loss: 91.3512 - mean_absolute_error: 6.4128 - mean_squared_error: 91.3512 - val_loss: 100.1478 - val_mean_absolute_error: 6.3389 - val_mean_squared_error: 100.1478\n",
            ".Epoch 11/50\n",
            "2405/2405 [==============================] - 23s 9ms/step - loss: 91.0689 - mean_absolute_error: 6.3933 - mean_squared_error: 91.0689 - val_loss: 100.3307 - val_mean_absolute_error: 6.1938 - val_mean_squared_error: 100.3307\n",
            ".Epoch 12/50\n",
            "2405/2405 [==============================] - 22s 9ms/step - loss: 89.3023 - mean_absolute_error: 6.3168 - mean_squared_error: 89.3023 - val_loss: 100.7706 - val_mean_absolute_error: 6.2342 - val_mean_squared_error: 100.7706\n",
            ".Epoch 13/50\n",
            "2405/2405 [==============================] - 22s 9ms/step - loss: 87.5964 - mean_absolute_error: 6.2280 - mean_squared_error: 87.5964 - val_loss: 100.4771 - val_mean_absolute_error: 6.4752 - val_mean_squared_error: 100.4771\n",
            ".Epoch 14/50\n",
            "2405/2405 [==============================] - 23s 10ms/step - loss: 90.6901 - mean_absolute_error: 6.4243 - mean_squared_error: 90.6901 - val_loss: 100.0899 - val_mean_absolute_error: 6.2936 - val_mean_squared_error: 100.0899\n",
            ".Epoch 15/50\n",
            "2405/2405 [==============================] - 23s 9ms/step - loss: 89.7651 - mean_absolute_error: 6.3612 - mean_squared_error: 89.7651 - val_loss: 99.7730 - val_mean_absolute_error: 6.2126 - val_mean_squared_error: 99.7730\n",
            ".Epoch 16/50\n",
            "2405/2405 [==============================] - 23s 10ms/step - loss: 88.3545 - mean_absolute_error: 6.3183 - mean_squared_error: 88.3545 - val_loss: 99.5569 - val_mean_absolute_error: 6.1833 - val_mean_squared_error: 99.5569\n",
            ".Epoch 17/50\n",
            "2405/2405 [==============================] - 23s 9ms/step - loss: 87.2058 - mean_absolute_error: 6.2599 - mean_squared_error: 87.2058 - val_loss: 100.6236 - val_mean_absolute_error: 6.1776 - val_mean_squared_error: 100.6236\n",
            ".Epoch 18/50\n",
            "2405/2405 [==============================] - 23s 9ms/step - loss: 87.9879 - mean_absolute_error: 6.2882 - mean_squared_error: 87.9879 - val_loss: 99.5072 - val_mean_absolute_error: 6.1973 - val_mean_squared_error: 99.5072\n",
            ".Epoch 19/50\n",
            "2405/2405 [==============================] - 22s 9ms/step - loss: 86.2369 - mean_absolute_error: 6.2010 - mean_squared_error: 86.2369 - val_loss: 99.6643 - val_mean_absolute_error: 6.1497 - val_mean_squared_error: 99.6643\n",
            ".Epoch 20/50\n",
            "2405/2405 [==============================] - 22s 9ms/step - loss: 85.9762 - mean_absolute_error: 6.2497 - mean_squared_error: 85.9762 - val_loss: 99.8200 - val_mean_absolute_error: 6.0488 - val_mean_squared_error: 99.8200\n",
            ".Epoch 21/50\n",
            "2405/2405 [==============================] - 23s 9ms/step - loss: 86.8870 - mean_absolute_error: 6.2234 - mean_squared_error: 86.8870 - val_loss: 99.2939 - val_mean_absolute_error: 6.3410 - val_mean_squared_error: 99.2939\n",
            ".Epoch 22/50\n",
            "2405/2405 [==============================] - 22s 9ms/step - loss: 84.7040 - mean_absolute_error: 6.2238 - mean_squared_error: 84.7040 - val_loss: 99.7429 - val_mean_absolute_error: 6.0358 - val_mean_squared_error: 99.7429\n",
            ".Epoch 23/50\n",
            "2405/2405 [==============================] - 22s 9ms/step - loss: 83.8994 - mean_absolute_error: 6.0800 - mean_squared_error: 83.8994 - val_loss: 98.8820 - val_mean_absolute_error: 6.1187 - val_mean_squared_error: 98.8820\n",
            ".Epoch 24/50\n",
            "2405/2405 [==============================] - 22s 9ms/step - loss: 87.7067 - mean_absolute_error: 6.2999 - mean_squared_error: 87.7067 - val_loss: 98.4740 - val_mean_absolute_error: 6.1039 - val_mean_squared_error: 98.4740\n",
            ".Epoch 25/50\n",
            "2405/2405 [==============================] - 22s 9ms/step - loss: 86.7842 - mean_absolute_error: 6.2560 - mean_squared_error: 86.7842 - val_loss: 99.4775 - val_mean_absolute_error: 5.9600 - val_mean_squared_error: 99.4775\n",
            ".Epoch 26/50\n",
            "2405/2405 [==============================] - 22s 9ms/step - loss: 86.0088 - mean_absolute_error: 6.1980 - mean_squared_error: 86.0088 - val_loss: 98.8972 - val_mean_absolute_error: 6.1175 - val_mean_squared_error: 98.8972\n",
            ".Epoch 27/50\n",
            "2405/2405 [==============================] - 22s 9ms/step - loss: 84.9543 - mean_absolute_error: 6.2037 - mean_squared_error: 84.9543 - val_loss: 98.9035 - val_mean_absolute_error: 6.0710 - val_mean_squared_error: 98.9035\n",
            ".Epoch 28/50\n",
            "2405/2405 [==============================] - 22s 9ms/step - loss: 82.1605 - mean_absolute_error: 6.0926 - mean_squared_error: 82.1605 - val_loss: 99.4993 - val_mean_absolute_error: 6.0559 - val_mean_squared_error: 99.4993\n",
            ".Epoch 29/50\n",
            "2405/2405 [==============================] - 22s 9ms/step - loss: 84.5825 - mean_absolute_error: 6.1652 - mean_squared_error: 84.5825 - val_loss: 100.5979 - val_mean_absolute_error: 6.1683 - val_mean_squared_error: 100.5979\n",
            ".Epoch 30/50\n",
            "2405/2405 [==============================] - 22s 9ms/step - loss: 81.8711 - mean_absolute_error: 6.1303 - mean_squared_error: 81.8711 - val_loss: 103.3463 - val_mean_absolute_error: 6.0137 - val_mean_squared_error: 103.3463\n",
            ".Epoch 31/50\n",
            "2405/2405 [==============================] - 22s 9ms/step - loss: 82.8706 - mean_absolute_error: 6.1423 - mean_squared_error: 82.8706 - val_loss: 101.7400 - val_mean_absolute_error: 5.9953 - val_mean_squared_error: 101.7400\n",
            ".Epoch 32/50\n",
            "2405/2405 [==============================] - 22s 9ms/step - loss: 84.7323 - mean_absolute_error: 6.1798 - mean_squared_error: 84.7323 - val_loss: 101.3579 - val_mean_absolute_error: 6.1308 - val_mean_squared_error: 101.3579\n",
            ".Epoch 33/50\n",
            "2405/2405 [==============================] - 22s 9ms/step - loss: 81.6297 - mean_absolute_error: 6.1365 - mean_squared_error: 81.6297 - val_loss: 100.5990 - val_mean_absolute_error: 6.1306 - val_mean_squared_error: 100.5990\n",
            ".Epoch 34/50\n",
            "2405/2405 [==============================] - 23s 9ms/step - loss: 80.9368 - mean_absolute_error: 6.0728 - mean_squared_error: 80.9368 - val_loss: 101.7780 - val_mean_absolute_error: 6.1119 - val_mean_squared_error: 101.7780\n",
            ".Epoch 35/50\n",
            "2405/2405 [==============================] - 22s 9ms/step - loss: 81.8024 - mean_absolute_error: 6.0848 - mean_squared_error: 81.8024 - val_loss: 99.7935 - val_mean_absolute_error: 6.2343 - val_mean_squared_error: 99.7935\n",
            ".Epoch 36/50\n",
            "2405/2405 [==============================] - 22s 9ms/step - loss: 83.1911 - mean_absolute_error: 6.1435 - mean_squared_error: 83.1911 - val_loss: 99.8854 - val_mean_absolute_error: 6.1803 - val_mean_squared_error: 99.8854\n",
            ".Epoch 37/50\n",
            "2405/2405 [==============================] - 22s 9ms/step - loss: 81.1017 - mean_absolute_error: 6.0705 - mean_squared_error: 81.1017 - val_loss: 100.1830 - val_mean_absolute_error: 6.2269 - val_mean_squared_error: 100.1830\n",
            ".Epoch 38/50\n",
            "2405/2405 [==============================] - 22s 9ms/step - loss: 80.7057 - mean_absolute_error: 6.0798 - mean_squared_error: 80.7057 - val_loss: 98.8301 - val_mean_absolute_error: 6.1789 - val_mean_squared_error: 98.8301\n",
            ".Epoch 39/50\n",
            "2405/2405 [==============================] - 23s 10ms/step - loss: 78.7623 - mean_absolute_error: 5.9900 - mean_squared_error: 78.7623 - val_loss: 98.8885 - val_mean_absolute_error: 6.0661 - val_mean_squared_error: 98.8885\n",
            ".Epoch 40/50\n",
            "2405/2405 [==============================] - 22s 9ms/step - loss: 78.1236 - mean_absolute_error: 5.9734 - mean_squared_error: 78.1236 - val_loss: 99.8852 - val_mean_absolute_error: 6.1520 - val_mean_squared_error: 99.8852\n",
            ".Epoch 41/50\n",
            "2405/2405 [==============================] - 22s 9ms/step - loss: 81.0278 - mean_absolute_error: 6.0881 - mean_squared_error: 81.0278 - val_loss: 101.5369 - val_mean_absolute_error: 6.0076 - val_mean_squared_error: 101.5369\n",
            ".Epoch 42/50\n",
            "2405/2405 [==============================] - 21s 9ms/step - loss: 77.9281 - mean_absolute_error: 5.9451 - mean_squared_error: 77.9281 - val_loss: 102.1171 - val_mean_absolute_error: 5.9572 - val_mean_squared_error: 102.1171\n",
            ".Epoch 43/50\n",
            "2405/2405 [==============================] - 22s 9ms/step - loss: 80.4746 - mean_absolute_error: 6.0090 - mean_squared_error: 80.4746 - val_loss: 100.6279 - val_mean_absolute_error: 6.0298 - val_mean_squared_error: 100.6279\n",
            ".Epoch 44/50\n",
            "2405/2405 [==============================] - 22s 9ms/step - loss: 79.3008 - mean_absolute_error: 6.0991 - mean_squared_error: 79.3008 - val_loss: 100.6648 - val_mean_absolute_error: 6.1243 - val_mean_squared_error: 100.6648\n",
            ".Epoch 45/50\n",
            "2405/2405 [==============================] - 23s 10ms/step - loss: 78.8235 - mean_absolute_error: 6.0371 - mean_squared_error: 78.8235 - val_loss: 100.6239 - val_mean_absolute_error: 6.1476 - val_mean_squared_error: 100.6239\n",
            ".Epoch 46/50\n",
            "2405/2405 [==============================] - 22s 9ms/step - loss: 81.4238 - mean_absolute_error: 6.0876 - mean_squared_error: 81.4238 - val_loss: 99.1625 - val_mean_absolute_error: 6.1725 - val_mean_squared_error: 99.1625\n",
            ".Epoch 47/50\n",
            "2405/2405 [==============================] - 22s 9ms/step - loss: 81.5528 - mean_absolute_error: 6.1614 - mean_squared_error: 81.5528 - val_loss: 102.2045 - val_mean_absolute_error: 6.2524 - val_mean_squared_error: 102.2045\n",
            ".Epoch 48/50\n",
            "2405/2405 [==============================] - 22s 9ms/step - loss: 78.3071 - mean_absolute_error: 6.0272 - mean_squared_error: 78.3071 - val_loss: 102.2484 - val_mean_absolute_error: 6.3587 - val_mean_squared_error: 102.2484\n",
            ".Epoch 49/50\n",
            "2405/2405 [==============================] - 22s 9ms/step - loss: 82.2785 - mean_absolute_error: 6.1490 - mean_squared_error: 82.2785 - val_loss: 100.7515 - val_mean_absolute_error: 6.0704 - val_mean_squared_error: 100.7515\n",
            ".Epoch 50/50\n",
            "2405/2405 [==============================] - 22s 9ms/step - loss: 77.4626 - mean_absolute_error: 5.9543 - mean_squared_error: 77.4626 - val_loss: 99.0539 - val_mean_absolute_error: 5.9856 - val_mean_squared_error: 99.0539\n",
            "."
          ],
          "name": "stdout"
        }
      ]
    },
    {
      "cell_type": "markdown",
      "metadata": {
        "id": "1Vah6JcKkY4O",
        "colab_type": "text"
      },
      "source": [
        ""
      ]
    },
    {
      "cell_type": "code",
      "metadata": {
        "id": "R1ccn5PREag-",
        "colab_type": "code",
        "outputId": "09dd9e45-eafc-4114-e856-2817fae0464c",
        "colab": {
          "base_uri": "https://localhost:8080/",
          "height": 51
        }
      },
      "source": [
        "hist = pd.DataFrame(history.history)\n",
        "hist['epoch'] = history.epoch\n",
        "hist.tail()\n",
        "print(\"MAE = \" + str(hist[\"mean_absolute_error\"][10:].mean()))\n",
        "print(\"Val MAE = \" + str(hist[\"val_mean_absolute_error\"][10:].mean()))"
      ],
      "execution_count": 38,
      "outputs": [
        {
          "output_type": "stream",
          "text": [
            "MAE = 6.1586352591009\n",
            "Val MAE = 6.1416304880912005\n"
          ],
          "name": "stdout"
        }
      ]
    },
    {
      "cell_type": "code",
      "metadata": {
        "id": "6WMHRCnnEahD",
        "colab_type": "code",
        "outputId": "355e54bb-1d3c-4516-8f38-277de91b489b",
        "colab": {
          "base_uri": "https://localhost:8080/",
          "height": 296
        }
      },
      "source": [
        "def plot_history(history):\n",
        "  hist = pd.DataFrame(history.history)\n",
        "  hist['epoch'] = history.epoch\n",
        "\n",
        "  plt.figure()\n",
        "  plt.xlabel('Epoch')\n",
        "  plt.ylabel('Mean Abs Error [los]')\n",
        "  plt.plot(hist['epoch'], hist['mean_absolute_error'],\n",
        "           label='Train Error')\n",
        "  plt.plot(hist['epoch'], hist['val_mean_absolute_error'],\n",
        "           label = 'Val Error')\n",
        "  #plt.ylim([0,max(hist['val_mean_absolute_error'])])\n",
        "  plt.legend()\n",
        "\n",
        "  plt.show()\n",
        "\n",
        "\n",
        "plot_history(history)\n",
        "\n",
        "actual_predictions = model.predict(test_dataset)\n",
        "test_error = mean_absolute_error(test_labels, actual_predictions)\n",
        "print(\"Testing (LOS): \" + str(test_error))\n"
      ],
      "execution_count": 39,
      "outputs": [
        {
          "output_type": "display_data",
          "data": {
            "image/png": "[encoded data removed]",
            "text/plain": [
              "<Figure size 432x288 with 1 Axes>"
            ]
          },
          "metadata": {
            "tags": []
          }
        },
        {
          "output_type": "stream",
          "text": [
            "Testing (LOS): 5.508011575033499\n"
          ],
          "name": "stdout"
        }
      ]
    },
    {
      "cell_type": "code",
      "metadata": {
        "id": "syco1HbXEahM",
        "colab_type": "code",
        "colab": {}
      },
      "source": [
        ""
      ],
      "execution_count": 0,
      "outputs": []
    }
  ]
}