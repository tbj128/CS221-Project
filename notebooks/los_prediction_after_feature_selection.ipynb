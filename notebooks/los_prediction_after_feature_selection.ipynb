{
 "cells": [
  {
   "cell_type": "markdown",
   "metadata": {},
   "source": [
    "# LOS Prediction - Feature Selection\n",
    "\n",
    "This notebook performs LOS prediction on the 24 or 48 hour dataset after keeping only columns identified by feature selection. \n",
    "\n",
    "LOS prediction here is done using both linear regression and feedforward DNN."
   ]
  },
  {
   "cell_type": "code",
   "execution_count": 241,
   "metadata": {},
   "outputs": [
    {
     "name": "stdout",
     "output_type": "stream",
     "text": [
      "2.0.0\n"
     ]
    }
   ],
   "source": [
    "from __future__ import absolute_import, division, print_function, unicode_literals\n",
    "\n",
    "import pathlib\n",
    "\n",
    "import matplotlib.pyplot as plt\n",
    "import pandas as pd\n",
    "import seaborn as sns\n",
    "\n",
    "import tensorflow as tf\n",
    "\n",
    "from tensorflow import keras\n",
    "from tensorflow.keras import layers\n",
    "from keras.layers.advanced_activations import LeakyReLU\n",
    "\n",
    "import matplotlib.pyplot as plt\n",
    "import numpy as np\n",
    "\n",
    "from sklearn.datasets import load_boston\n",
    "from sklearn.feature_selection import SelectFromModel\n",
    "from sklearn.linear_model import LassoCV\n",
    "\n",
    "import numpy as np\n",
    "\n",
    "print(tf.__version__)"
   ]
  },
  {
   "cell_type": "code",
   "execution_count": 242,
   "metadata": {},
   "outputs": [
    {
     "data": {
      "text/plain": [
       "(0, 200.0)"
      ]
     },
     "execution_count": 242,
     "metadata": {},
     "output_type": "execute_result"
    },
    {
     "data": {
      "image/png": "[encoded data removed]",
      "text/plain": [
       "<matplotlib.figure.Figure at 0x41a3a1b00>"
      ]
     },
     "metadata": {
      "needs_background": "light"
     },
     "output_type": "display_data"
    }
   ],
   "source": [
    "\n",
    "raw_dataset = pd.read_csv('../data/exp/pneumonia-t3/first48hours.csv', header=0)\n",
    "df = raw_dataset.copy()\n",
    "\n",
    "# Plot how many columns have non-zero values\n",
    "(df==0).mean().hist(bins=100, grid=False, xlabelsize=12, ylabelsize=12)\n",
    "plt.xlabel(\"% Non-Zero\", fontsize=15)\n",
    "plt.ylabel(\"Frequency\",fontsize=15)\n",
    "plt.xlim([0,1.1])\n",
    "plt.ylim([0,200.0])\n",
    "\n"
   ]
  },
  {
   "cell_type": "code",
   "execution_count": 243,
   "metadata": {},
   "outputs": [
    {
     "name": "stdout",
     "output_type": "stream",
     "text": [
      "Num columns starting: 2474\n"
     ]
    },
    {
     "data": {
      "text/html": [
       "<div>\n",
       "<style scoped>\n",
       "    .dataframe tbody tr th:only-of-type {\n",
       "        vertical-align: middle;\n",
       "    }\n",
       "\n",
       "    .dataframe tbody tr th {\n",
       "        vertical-align: top;\n",
       "    }\n",
       "\n",
       "    .dataframe thead th {\n",
       "        text-align: right;\n",
       "    }\n",
       "</style>\n",
       "<table border=\"1\" class=\"dataframe\">\n",
       "  <thead>\n",
       "    <tr style=\"text-align: right;\">\n",
       "      <th></th>\n",
       "      <th>status</th>\n",
       "      <th>los</th>\n",
       "      <th>age</th>\n",
       "      <th>gender</th>\n",
       "      <th>insurance</th>\n",
       "      <th>language</th>\n",
       "      <th>religion</th>\n",
       "      <th>marital_status</th>\n",
       "      <th>ethnicity</th>\n",
       "      <th>Anion Gap</th>\n",
       "      <th>...</th>\n",
       "      <th>Systolic</th>\n",
       "      <th>Systolic-trend</th>\n",
       "      <th>O2 Flow.1</th>\n",
       "      <th>O2 Flow-trend.1</th>\n",
       "      <th>Respiratory Rate</th>\n",
       "      <th>Respiratory Rate-trend</th>\n",
       "      <th>Temperature.1</th>\n",
       "      <th>Temperature-trend.1</th>\n",
       "      <th>O2</th>\n",
       "      <th>O2-trend</th>\n",
       "    </tr>\n",
       "  </thead>\n",
       "  <tbody>\n",
       "    <tr>\n",
       "      <th>3877</th>\n",
       "      <td>0</td>\n",
       "      <td>3.672</td>\n",
       "      <td>65.7564</td>\n",
       "      <td>M</td>\n",
       "      <td>Medicare</td>\n",
       "      <td>0</td>\n",
       "      <td>CATHOLIC</td>\n",
       "      <td>MARRIED</td>\n",
       "      <td>WHITE</td>\n",
       "      <td>11.667</td>\n",
       "      <td>...</td>\n",
       "      <td>105.484</td>\n",
       "      <td>0.886</td>\n",
       "      <td>34.333</td>\n",
       "      <td>-3.731</td>\n",
       "      <td>59.483</td>\n",
       "      <td>-0.020</td>\n",
       "      <td>37.074</td>\n",
       "      <td>0.005</td>\n",
       "      <td>0.000</td>\n",
       "      <td>0.000</td>\n",
       "    </tr>\n",
       "    <tr>\n",
       "      <th>3878</th>\n",
       "      <td>1</td>\n",
       "      <td>10.028</td>\n",
       "      <td>53.2113</td>\n",
       "      <td>F</td>\n",
       "      <td>Private</td>\n",
       "      <td>ENGL</td>\n",
       "      <td>BUDDHIST</td>\n",
       "      <td>SINGLE</td>\n",
       "      <td>WHITE</td>\n",
       "      <td>11.500</td>\n",
       "      <td>...</td>\n",
       "      <td>102.000</td>\n",
       "      <td>-4.373</td>\n",
       "      <td>0.000</td>\n",
       "      <td>0.000</td>\n",
       "      <td>21.393</td>\n",
       "      <td>0.586</td>\n",
       "      <td>0.000</td>\n",
       "      <td>0.000</td>\n",
       "      <td>93.607</td>\n",
       "      <td>0.002</td>\n",
       "    </tr>\n",
       "    <tr>\n",
       "      <th>3879</th>\n",
       "      <td>0</td>\n",
       "      <td>19.972</td>\n",
       "      <td>54.1504</td>\n",
       "      <td>M</td>\n",
       "      <td>Private</td>\n",
       "      <td>0</td>\n",
       "      <td>NOT SPECIFIED</td>\n",
       "      <td>MARRIED</td>\n",
       "      <td>UNKNOWN/NOT SPECIFIED</td>\n",
       "      <td>14.333</td>\n",
       "      <td>...</td>\n",
       "      <td>113.960</td>\n",
       "      <td>0.591</td>\n",
       "      <td>0.000</td>\n",
       "      <td>0.000</td>\n",
       "      <td>60.879</td>\n",
       "      <td>0.221</td>\n",
       "      <td>49.302</td>\n",
       "      <td>-0.465</td>\n",
       "      <td>0.000</td>\n",
       "      <td>0.000</td>\n",
       "    </tr>\n",
       "    <tr>\n",
       "      <th>3880</th>\n",
       "      <td>0</td>\n",
       "      <td>4.997</td>\n",
       "      <td>78.4329</td>\n",
       "      <td>M</td>\n",
       "      <td>Medicare</td>\n",
       "      <td>ENGL</td>\n",
       "      <td>CATHOLIC</td>\n",
       "      <td>MARRIED</td>\n",
       "      <td>WHITE</td>\n",
       "      <td>16.000</td>\n",
       "      <td>...</td>\n",
       "      <td>115.000</td>\n",
       "      <td>0.379</td>\n",
       "      <td>1.542</td>\n",
       "      <td>0.029</td>\n",
       "      <td>22.630</td>\n",
       "      <td>-0.264</td>\n",
       "      <td>0.000</td>\n",
       "      <td>0.000</td>\n",
       "      <td>98.043</td>\n",
       "      <td>0.070</td>\n",
       "    </tr>\n",
       "    <tr>\n",
       "      <th>3881</th>\n",
       "      <td>0</td>\n",
       "      <td>11.803</td>\n",
       "      <td>86.2661</td>\n",
       "      <td>M</td>\n",
       "      <td>Medicare</td>\n",
       "      <td>ENGL</td>\n",
       "      <td>GREEK ORTHODOX</td>\n",
       "      <td>MARRIED</td>\n",
       "      <td>WHITE</td>\n",
       "      <td>11.333</td>\n",
       "      <td>...</td>\n",
       "      <td>119.833</td>\n",
       "      <td>-1.341</td>\n",
       "      <td>15.000</td>\n",
       "      <td>0.000</td>\n",
       "      <td>25.694</td>\n",
       "      <td>0.035</td>\n",
       "      <td>0.000</td>\n",
       "      <td>0.000</td>\n",
       "      <td>98.347</td>\n",
       "      <td>0.112</td>\n",
       "    </tr>\n",
       "  </tbody>\n",
       "</table>\n",
       "<p>5 rows × 230 columns</p>\n",
       "</div>"
      ],
      "text/plain": [
       "      status     los      age gender insurance language        religion  \\\n",
       "3877       0   3.672  65.7564      M  Medicare        0        CATHOLIC   \n",
       "3878       1  10.028  53.2113      F   Private     ENGL        BUDDHIST   \n",
       "3879       0  19.972  54.1504      M   Private        0   NOT SPECIFIED   \n",
       "3880       0   4.997  78.4329      M  Medicare     ENGL        CATHOLIC   \n",
       "3881       0  11.803  86.2661      M  Medicare     ENGL  GREEK ORTHODOX   \n",
       "\n",
       "     marital_status              ethnicity  Anion Gap    ...     Systolic  \\\n",
       "3877        MARRIED                  WHITE     11.667    ...      105.484   \n",
       "3878         SINGLE                  WHITE     11.500    ...      102.000   \n",
       "3879        MARRIED  UNKNOWN/NOT SPECIFIED     14.333    ...      113.960   \n",
       "3880        MARRIED                  WHITE     16.000    ...      115.000   \n",
       "3881        MARRIED                  WHITE     11.333    ...      119.833   \n",
       "\n",
       "      Systolic-trend  O2 Flow.1  O2 Flow-trend.1  Respiratory Rate  \\\n",
       "3877           0.886     34.333           -3.731            59.483   \n",
       "3878          -4.373      0.000            0.000            21.393   \n",
       "3879           0.591      0.000            0.000            60.879   \n",
       "3880           0.379      1.542            0.029            22.630   \n",
       "3881          -1.341     15.000            0.000            25.694   \n",
       "\n",
       "      Respiratory Rate-trend  Temperature.1  Temperature-trend.1      O2  \\\n",
       "3877                  -0.020         37.074                0.005   0.000   \n",
       "3878                   0.586          0.000                0.000  93.607   \n",
       "3879                   0.221         49.302               -0.465   0.000   \n",
       "3880                  -0.264          0.000                0.000  98.043   \n",
       "3881                   0.035          0.000                0.000  98.347   \n",
       "\n",
       "      O2-trend  \n",
       "3877     0.000  \n",
       "3878     0.002  \n",
       "3879     0.000  \n",
       "3880     0.070  \n",
       "3881     0.112  \n",
       "\n",
       "[5 rows x 230 columns]"
      ]
     },
     "execution_count": 243,
     "metadata": {},
     "output_type": "execute_result"
    }
   ],
   "source": [
    "\n",
    "print(\"Num columns starting: \" + str(len(df.columns)))\n",
    "\n",
    "df = df.loc[:, (df==0).mean() < .9]\n",
    "df.fillna(0, inplace=True)\n",
    "df = df.replace([np.inf, -np.inf], 0)\n",
    "\n",
    "# Remove rows where the chartevents aren't available\n",
    "df = df[df['Heart Rate'] > 0]\n",
    "\n",
    "# Remove outliers\n",
    "df = df[df['los'] <= 100]\n",
    "\n",
    "# Shuffle data because data is ordered by admittime currently\n",
    "df = df.sample(frac=1).reset_index(drop=True)\n",
    "df.tail()\n"
   ]
  },
  {
   "cell_type": "code",
   "execution_count": 244,
   "metadata": {},
   "outputs": [],
   "source": [
    "# One hot encode the demographic columns\n",
    "cols_to_one_hot = ['gender', 'insurance', 'language', 'religion', 'marital_status', 'ethnicity']\n",
    "for col in cols_to_one_hot:\n",
    "    one_hot = pd.get_dummies(df[col], col)\n",
    "    df = df.drop(col, axis = 1)\n",
    "    df = df.join(one_hot)\n",
    "\n",
    "df = df.loc[:, (df==0).mean() < .9]"
   ]
  },
  {
   "cell_type": "code",
   "execution_count": 245,
   "metadata": {},
   "outputs": [],
   "source": [
    "los = df.pop('los')\n"
   ]
  },
  {
   "cell_type": "code",
   "execution_count": 246,
   "metadata": {},
   "outputs": [
    {
     "name": "stdout",
     "output_type": "stream",
     "text": [
      "Num columns before feature selection: 236\n",
      "Index(['status', 'age', 'Bands-trend', 'MCHC-trend', 'MCV-trend',\n",
      "       'Neutrophils', 'RDW-trend', 'Red Blood Cells', 'pH', 'pO2',\n",
      "       'Creatinine, Urine', 'Osmolality, Urine', 'Oxygen Saturation',\n",
      "       'Temperature', 'PEEP', 'Tidal Volume', 'Lipase', 'Troponin T-trend',\n",
      "       'Free Calcium', 'Sodium, Whole Blood', 'Hematocrit, Calculated',\n",
      "       'Chloride, Whole Blood', 'Vancomycin', 'Fibrinogen, Functional',\n",
      "       'Amylase', 'FENT2I', 'CHLO15L', 'PRED20', 'CEFX1F', 'KCL20PM',\n",
      "       'SENN187', 'MIDA50I', 'ALBU3H', 'IPRA2H', 'NS250', 'PROP100IG',\n",
      "       'PNEU25I', 'PANT40I', 'LEV250', 'LORA2I', 'LR1000', 'SW50', 'KCLBASE2',\n",
      "       'INSULIN', 'MAGS1I', 'ZITHR250', 'NS100', 'VIAL', 'D5W250', 'D5W100',\n",
      "       'CALG1I', 'Systolic', 'O2 Flow.1', 'O2 Flow-trend.1', 'Temperature.1',\n",
      "       'O2', 'insurance_Medicare', 'language_0', 'language_ENGL'],\n",
      "      dtype='object')\n",
      "Num columns after feature selection: 59\n",
      "Training (LOS): 5.164452166805146\n",
      "Validation (LOS): 5.656152887975407\n",
      "Testing (LOS): 5.7580985073593185\n"
     ]
    }
   ],
   "source": [
    "from sklearn.linear_model import SGDClassifier, SGDRegressor, LogisticRegression, LinearRegression\n",
    "from sklearn.metrics import mean_squared_error, mean_absolute_error\n",
    "from sklearn.model_selection import train_test_split\n",
    "from sklearn.preprocessing import LabelEncoder\n",
    "from sklearn.feature_selection import SelectFromModel\n",
    "from sklearn.linear_model import ElasticNet\n",
    "from math import sqrt\n",
    "from sklearn.feature_selection import f_regression, mutual_info_regression, SelectKBest\n",
    "\n",
    "\n",
    "# NORMALIZE THE DATASET\n",
    "stats = df.describe()\n",
    "stats = stats.transpose()\n",
    "\n",
    "def norm(x):\n",
    "  return (x - stats['mean']) / stats['std']\n",
    "normed_df = norm(df)\n",
    "\n",
    "print(\"Num columns before feature selection: \" + str(len(normed_df.columns)))\n",
    "\n",
    "# RUN FEATURE SELECTION BASED ON SGD LINEAR REGRESSION\n",
    "# clf = SGDRegressor(loss=\"squared_loss\", penalty=\"l1\", eta0=0.0001)\n",
    "# sfm = SelectFromModel(clf, threshold=0.26) #0.19 = 72 features -> pretty good\n",
    "# sfm.fit(normed_df, los)\n",
    "# feature_idx = sfm.get_support()\n",
    "# transformed_df = normed_df.loc[:,feature_idx]\n",
    "# print(\"Num columns after feature selection: \" + str(len(transformed_df.columns)))\n",
    "\n",
    "\n",
    "# RUN FEATURE SELECTION BASED ON ELASTIC NET LINEAR REGRESSION\n",
    "elastic = ElasticNet(l1_ratio=0.35, max_iter=10000)\n",
    "elastic.fit(normed_df, los)\n",
    "coef = pd.Series(elastic.coef_, index = normed_df.columns)\n",
    "# features = coef.abs().sort_values(ascending=False).head(64).index\n",
    "features = normed_df.columns[coef != 0]\n",
    "transformed_df = normed_df[list(features)]\n",
    "print(features)\n",
    "print(\"Num columns after feature selection: \" + str(len(transformed_df.columns)))\n",
    "\n",
    "\n",
    "# RUN FEATURE SELECTION BASED ON MUTUAL INFORMATION\n",
    "# vals = mutual_info_regression(normed_df, los)\n",
    "# features = df.columns\n",
    "# output = [a for a in zip(features, vals)]\n",
    "# output.sort(key=lambda pair: pair[1], reverse=True)\n",
    "# features_to_keep = []\n",
    "# i = 0\n",
    "# while i < 43:\n",
    "#     features_to_keep.append(output[i][0])\n",
    "#     i += 1\n",
    "# transformed_df = normed_df[features_to_keep]\n",
    "# print(\"Num columns after feature selection: \" + str(len(transformed_df.columns)))\n",
    "\n",
    "\n",
    "\n",
    "# PRINT THE WEIGHT VECTOR\n",
    "#coef = sfm.estimator_.coef_\n",
    "#print(coef)\n",
    "\n",
    "# DIVIDE INTO TRAIN/TEST\n",
    "transformed_df.insert(0, 'los', los)\n",
    "train_dataset = transformed_df.sample(frac=0.7)\n",
    "test_dataset = transformed_df.drop(train_dataset.index)\n",
    "train_labels = train_dataset.pop('los')\n",
    "test_labels = test_dataset.pop('los')\n",
    "\n",
    "\n",
    "X_train, X_val, y_train, y_val = train_test_split(train_dataset, train_labels, test_size=0.70)\n",
    "\n",
    "# normed_train_data\n",
    "\n",
    "clf = SGDRegressor(loss=\"squared_loss\", penalty=\"l1\", eta0=0.0001)\n",
    "# clf = LinearRegression(normalize=True)\n",
    "clf.fit(X_train, y_train)\n",
    "\n",
    "y_train_preds = clf.predict(X_train)\n",
    "training_error = mean_absolute_error(y_train, y_train_preds)\n",
    "print(\"Training (LOS): \" + str(training_error))\n",
    "\n",
    "y_val_preds = clf.predict(X_val)\n",
    "training_error = mean_absolute_error(y_val, y_val_preds)\n",
    "print(\"Validation (LOS): \" + str(training_error))\n",
    "\n",
    "y_test_preds = clf.predict(test_dataset)\n",
    "test_error = mean_absolute_error(test_labels, y_test_preds)\n",
    "print(\"Testing (LOS): \" + str(test_error))\n"
   ]
  },
  {
   "cell_type": "code",
   "execution_count": 247,
   "metadata": {},
   "outputs": [],
   "source": [
    "# https://stats.stackexchange.com/questions/181/how-to-choose-the-number-of-hidden-layers-and-nodes-in-a-feedforward-neural-netw\n",
    "\n",
    "def build_model(i):\n",
    "  model = keras.Sequential([\n",
    "    layers.Dense(i, activation='relu', input_shape=[len(train_dataset.keys())]),\n",
    "    layers.Dropout(0.5, name='dropout_1'),\n",
    "    layers.Dense(i, activation='relu', input_shape=[len(train_dataset.keys())]),\n",
    "    layers.Dropout(0.5, name='dropout_2'),\n",
    "    layers.Dense(i, activation='relu', input_shape=[len(train_dataset.keys())]),\n",
    "#     layers.Dense(512, kernel_initializer='normal',activation='relu'),\n",
    "#     layers.Dropout(0.5, name='dropout_1'),\n",
    "#     layers.Dense(512, kernel_initializer='normal',activation='relu'),\n",
    "#     layers.Dropout(0.5, name='dropout_2'),\n",
    "#     layers.Dense(512, kernel_initializer='normal',activation='relu'),\n",
    "    layers.Dense(1)\n",
    "  ])\n",
    "\n",
    "  optimizer = 'adam'\n",
    "\n",
    "  model.compile(loss='mse',\n",
    "                optimizer=optimizer,\n",
    "                metrics=['mae', 'mse'])\n",
    "  return model"
   ]
  },
  {
   "cell_type": "code",
   "execution_count": 252,
   "metadata": {},
   "outputs": [
    {
     "name": "stdout",
     "output_type": "stream",
     "text": [
      "WARNING:tensorflow:Falling back from v2 loop because of error: Failed to find data adapter that can handle input: <class 'pandas.core.frame.DataFrame'>, <class 'NoneType'>\n",
      "\n",
      "................................................................................"
     ]
    },
    {
     "data": {
      "image/png": "[encoded data removed]",
      "text/plain": [
       "<matplotlib.figure.Figure at 0x549915ba8>"
      ]
     },
     "metadata": {
      "needs_background": "light"
     },
     "output_type": "display_data"
    },
    {
     "name": "stdout",
     "output_type": "stream",
     "text": [
      "Train (LOS): 5.440962832314628\n",
      "Validation (LOS): 5.606745181764875\n",
      "WARNING:tensorflow:Falling back from v2 loop because of error: Failed to find data adapter that can handle input: <class 'pandas.core.frame.DataFrame'>, <class 'NoneType'>\n",
      "Testing (LOS): 5.575648608378791\n"
     ]
    }
   ],
   "source": [
    "\n",
    "# Display training progress by printing a single dot for each completed epoch\n",
    "class PrintDot(keras.callbacks.Callback):\n",
    "  def on_epoch_end(self, epoch, logs):\n",
    "    if epoch % 100 == 0: print('')\n",
    "    print('.', end='')\n",
    "\n",
    "EPOCHS = 80\n",
    "\n",
    "# for i in range(40):\n",
    "#     model = build_model(20 + i)\n",
    "#     history = model.fit(\n",
    "#       train_dataset, train_labels,\n",
    "#       epochs=EPOCHS, validation_split = 0.3, verbose=0,\n",
    "#       callbacks=[PrintDot()])\n",
    "#     hist = pd.DataFrame(history.history)\n",
    "#     hist['epoch'] = history.epoch\n",
    "#     hist.tail()\n",
    "#     print(\"Units = \" + str(i) + \": \" + str(hist[\"val_mae\"][10:].mean()))\n",
    "#     i += 1\n",
    "\n",
    "model = build_model(26)\n",
    "history = model.fit(\n",
    "  train_dataset, train_labels,\n",
    "  epochs=EPOCHS, validation_split = 0.3, verbose=0,\n",
    "  callbacks=[PrintDot()])\n",
    "\n",
    "def plot_history(history):\n",
    "  hist = pd.DataFrame(history.history)\n",
    "  hist['epoch'] = history.epoch\n",
    "\n",
    "  plt.figure()\n",
    "  plt.xlabel('Epoch')\n",
    "  plt.ylabel('Mean Abs Error [los]')\n",
    "  plt.plot(hist['epoch'], hist['mae'],\n",
    "           label='Train Error')\n",
    "  plt.plot(hist['epoch'], hist['val_mae'],\n",
    "           label = 'Val Error')\n",
    "  plt.ylim([0,8])\n",
    "  plt.legend()\n",
    "  plt.show()\n",
    "\n",
    "\n",
    "plot_history(history)\n",
    "\n",
    "\n",
    "hist = pd.DataFrame(history.history)\n",
    "hist['epoch'] = history.epoch\n",
    "hist.tail()\n",
    "\n",
    "\n",
    "print(\"Train (LOS): \" + str(hist[\"mae\"][10:].mean()))\n",
    "print(\"Validation (LOS): \" + str(hist[\"val_mae\"][10:].mean()))\n",
    "\n",
    "actual_predictions = model.predict(test_dataset)\n",
    "test_error = mean_absolute_error(test_labels, actual_predictions)\n",
    "print(\"Testing (LOS): \" + str(test_error))\n",
    "\n"
   ]
  },
  {
   "cell_type": "code",
   "execution_count": 233,
   "metadata": {},
   "outputs": [
    {
     "name": "stdout",
     "output_type": "stream",
     "text": [
      "WARNING:tensorflow:Falling back from v2 loop because of error: Failed to find data adapter that can handle input: <class 'pandas.core.frame.DataFrame'>, <class 'NoneType'>\n",
      "\n",
      "................................................................................"
     ]
    }
   ],
   "source": [
    "\n",
    "model = build_model(12)\n",
    "history = model.fit(\n",
    "  train_dataset, train_labels,\n",
    "  epochs=EPOCHS, validation_split = 0.3, verbose=0,\n",
    "  callbacks=[PrintDot()])\n"
   ]
  },
  {
   "cell_type": "code",
   "execution_count": 234,
   "metadata": {},
   "outputs": [
    {
     "data": {
      "image/png": "[encoded data removed]",
      "text/plain": [
       "<matplotlib.figure.Figure at 0x4a9fb1668>"
      ]
     },
     "metadata": {
      "needs_background": "light"
     },
     "output_type": "display_data"
    },
    {
     "name": "stdout",
     "output_type": "stream",
     "text": [
      "Train (LOS): 5.8010718296100565\n",
      "Validation (LOS): 5.736488367055918\n",
      "WARNING:tensorflow:Falling back from v2 loop because of error: Failed to find data adapter that can handle input: <class 'pandas.core.frame.DataFrame'>, <class 'NoneType'>\n",
      "Testing (LOS): 5.526778734038521\n"
     ]
    }
   ],
   "source": [
    "\n",
    "plot_history(history)\n",
    "\n",
    "hist = pd.DataFrame(history.history)\n",
    "hist['epoch'] = history.epoch\n",
    "hist.tail()\n",
    "\n",
    "\n",
    "print(\"Train (LOS): \" + str(hist[\"mae\"][3:].mean()))\n",
    "print(\"Validation (LOS): \" + str(hist[\"val_mae\"][3:].mean()))\n",
    "\n",
    "actual_predictions = model.predict(test_dataset)\n",
    "test_error = mean_absolute_error(test_labels, actual_predictions)\n",
    "print(\"Testing (LOS): \" + str(test_error))\n"
   ]
  },
  {
   "cell_type": "markdown",
   "metadata": {},
   "source": [
    "## LOS Prediction based on different demographics\n",
    "\n",
    "Using the features we've selected, can we achieve better performance with different subpopulations?\n",
    "\n",
    "### 1) Based on outcomes (alive vs expiry)"
   ]
  },
  {
   "cell_type": "code",
   "execution_count": 264,
   "metadata": {},
   "outputs": [
    {
     "name": "stdout",
     "output_type": "stream",
     "text": [
      "Alive rows = 607\n",
      "Dead rows = 607\n",
      "STATUS = ALIVE\n",
      "WARNING:tensorflow:Falling back from v2 loop because of error: Failed to find data adapter that can handle input: <class 'pandas.core.frame.DataFrame'>, <class 'NoneType'>\n",
      "\n",
      "............................................................"
     ]
    },
    {
     "data": {
      "image/png": "[encoded data removed]",
      "text/plain": [
       "<matplotlib.figure.Figure at 0x5391839e8>"
      ]
     },
     "metadata": {
      "needs_background": "light"
     },
     "output_type": "display_data"
    },
    {
     "name": "stdout",
     "output_type": "stream",
     "text": [
      "Train (LOS): 5.821552600860596\n",
      "Validation (LOS): 5.7575111579895015\n",
      "WARNING:tensorflow:Falling back from v2 loop because of error: Failed to find data adapter that can handle input: <class 'pandas.core.frame.DataFrame'>, <class 'NoneType'>\n",
      "Testing (LOS): 5.757122339625935\n"
     ]
    }
   ],
   "source": [
    "alive_df = transformed_df[df[\"status\"] == 0].head(607)\n",
    "dead_df = transformed_df[df[\"status\"] == 1]\n",
    "print(\"Alive rows = \" + str(len(alive_df)))\n",
    "print(\"Dead rows = \" + str(len(dead_df)))\n",
    "\n",
    "train_dataset_dem = alive_df.sample(frac=0.7,random_state=0)\n",
    "test_dataset_dem = alive_df.drop(train_dataset_dem.index)\n",
    "train_labels_dem = train_dataset_dem.pop('los')\n",
    "test_labels_dem = test_dataset_dem.pop('los')\n",
    "\n",
    "X_train, X_val, y_train, y_val = train_test_split(train_dataset_dem, train_labels_dem, test_size=0.70)\n",
    "\n",
    "print(\"STATUS = ALIVE\")\n",
    "\n",
    "model = build_model(8)\n",
    "\n",
    "EPOCHS = 60\n",
    "\n",
    "history = model.fit(\n",
    "  train_dataset_dem, train_labels_dem,\n",
    "  epochs=EPOCHS, validation_split = 0.2, verbose=0,\n",
    "  callbacks=[PrintDot()])\n",
    "\n",
    "def plot_history(history):\n",
    "  hist = pd.DataFrame(history.history)\n",
    "  hist['epoch'] = history.epoch\n",
    "\n",
    "  plt.figure()\n",
    "  plt.xlabel('Epoch')\n",
    "  plt.ylabel('Mean Abs Error [los]')\n",
    "  plt.plot(hist['epoch'], hist['mae'],\n",
    "           label='Train Error')\n",
    "  plt.plot(hist['epoch'], hist['val_mae'],\n",
    "           label = 'Val Error')\n",
    "  #plt.ylim([0,8])\n",
    "  plt.legend()\n",
    "  plt.show()\n",
    "\n",
    "\n",
    "plot_history(history)\n",
    "\n",
    "hist = pd.DataFrame(history.history)\n",
    "hist['epoch'] = history.epoch\n",
    "hist.tail()\n",
    "print(\"Train (LOS): \" + str(hist[\"mae\"][10:].mean()))\n",
    "print(\"Validation (LOS): \" + str(hist[\"val_mae\"][10:].mean()))\n",
    "\n",
    "actual_predictions = model.predict(test_dataset_dem)\n",
    "test_error = mean_absolute_error(test_labels_dem, actual_predictions)\n",
    "print(\"Testing (LOS): \" + str(test_error))\n",
    "\n"
   ]
  },
  {
   "cell_type": "code",
   "execution_count": 275,
   "metadata": {},
   "outputs": [
    {
     "name": "stdout",
     "output_type": "stream",
     "text": [
      "STATUS = DEAD\n",
      "Dead rows = 607\n",
      "WARNING:tensorflow:Falling back from v2 loop because of error: Failed to find data adapter that can handle input: <class 'pandas.core.frame.DataFrame'>, <class 'NoneType'>\n",
      "\n",
      "............................................................"
     ]
    },
    {
     "data": {
      "image/png": "[encoded data removed]",
      "text/plain": [
       "<matplotlib.figure.Figure at 0x636707c50>"
      ]
     },
     "metadata": {
      "needs_background": "light"
     },
     "output_type": "display_data"
    },
    {
     "name": "stdout",
     "output_type": "stream",
     "text": [
      "Train (LOS): 6.091581115722656\n",
      "Validation (LOS): 8.402371063232422\n",
      "WARNING:tensorflow:Falling back from v2 loop because of error: Failed to find data adapter that can handle input: <class 'pandas.core.frame.DataFrame'>, <class 'NoneType'>\n",
      "Testing (LOS): 6.375010633730626\n"
     ]
    }
   ],
   "source": [
    "\n",
    "print(\"STATUS = DEAD\")\n",
    "dead_df = transformed_df[df[\"status\"] == 1]\n",
    "print(\"Dead rows = \" + str(len(dead_df)))\n",
    "\n",
    "train_dataset_dem = dead_df.sample(frac=0.7,random_state=0)\n",
    "test_dataset_dem = dead_df.drop(train_dataset_dem.index)\n",
    "train_labels_dem = train_dataset_dem.pop('los')\n",
    "test_labels_dem = test_dataset_dem.pop('los')\n",
    "\n",
    "X_train, X_val, y_train, y_val = train_test_split(train_dataset_dem, train_labels_dem, test_size=0.70)\n",
    "\n",
    "def build_deceased_model(i):\n",
    "  model = keras.Sequential([\n",
    "    layers.Dense(i, activation='relu', input_shape=[len(train_dataset.keys())]),\n",
    "    layers.Dropout(0.5, name='dropout_1'),\n",
    "    layers.Dense(i, activation='relu', input_shape=[len(train_dataset.keys())]),\n",
    "    layers.Dropout(0.5, name='dropout_2'),\n",
    "    layers.Dense(i, activation='relu', input_shape=[len(train_dataset.keys())]),\n",
    "    layers.Dense(1)\n",
    "  ])\n",
    "\n",
    "  optimizer = 'adam'\n",
    "\n",
    "  model.compile(loss='mse',\n",
    "                optimizer=optimizer,\n",
    "                metrics=['mae', 'mse'])\n",
    "  return model\n",
    "model = build_deceased_model(16)\n",
    "\n",
    "EPOCHS = 60\n",
    "\n",
    "history_dead = model.fit(\n",
    "  train_dataset_dem, train_labels_dem,\n",
    "  epochs=EPOCHS, validation_split = 0.2, verbose=0,\n",
    "  callbacks=[PrintDot()])\n",
    "\n",
    "def plot_history(h1, h2):\n",
    "  hist_alive = pd.DataFrame(h1.history)\n",
    "  hist_alive['epoch'] = h1.epoch\n",
    "\n",
    "  hist_dead = pd.DataFrame(h2.history)\n",
    "  hist_dead['epoch'] = h2.epoch\n",
    "    \n",
    "  plt.figure()\n",
    "  plt.xlabel('Epoch')\n",
    "  plt.ylabel('Mean Abs Error [los]')\n",
    "  plt.plot(hist_alive['epoch'], hist_alive['mae'],\n",
    "           label='Train Error (Alive)')\n",
    "  plt.plot(hist_alive['epoch'], hist_alive['val_mae'],\n",
    "           label = 'Val Error (Alive)')\n",
    "  plt.plot(hist_dead['epoch'], hist_dead['mae'],\n",
    "           label='Train Error (Deceased)')\n",
    "  plt.plot(hist_dead['epoch'], hist_dead['val_mae'],\n",
    "           label = 'Val Error (Deceased)')\n",
    "  plt.legend()\n",
    "  plt.show()\n",
    "\n",
    "\n",
    "plot_history(history, history_dead)\n",
    "\n",
    "hist = pd.DataFrame(history_dead.history)\n",
    "hist['epoch'] = history_dead.epoch\n",
    "hist.tail()\n",
    "print(\"Train (LOS): \" + str(hist[\"mae\"][10:].mean()))\n",
    "print(\"Validation (LOS): \" + str(hist[\"val_mae\"][10:].mean()))\n",
    "\n",
    "actual_predictions = model.predict(test_dataset_dem)\n",
    "test_error = mean_absolute_error(test_labels_dem, actual_predictions)\n",
    "print(\"Testing (LOS): \" + str(test_error))\n",
    "\n",
    "\n",
    "\n"
   ]
  },
  {
   "cell_type": "markdown",
   "metadata": {},
   "source": [
    "\n",
    "### 2) Based on payment method (medicare vs private)"
   ]
  },
  {
   "cell_type": "code",
   "execution_count": 237,
   "metadata": {},
   "outputs": [
    {
     "name": "stdout",
     "output_type": "stream",
     "text": [
      "Medicare rows = 2447\n",
      "INSURANCE = Medicare\n",
      "WARNING:tensorflow:Falling back from v2 loop because of error: Failed to find data adapter that can handle input: <class 'pandas.core.frame.DataFrame'>, <class 'NoneType'>\n",
      "\n",
      "...................................................................................................."
     ]
    },
    {
     "data": {
      "image/png": "[encoded data removed]",
      "text/plain": [
       "<matplotlib.figure.Figure at 0x4c9dd1ef0>"
      ]
     },
     "metadata": {
      "needs_background": "light"
     },
     "output_type": "display_data"
    },
    {
     "name": "stdout",
     "output_type": "stream",
     "text": [
      "Train (LOS): 5.020745429796042\n",
      "Validation (LOS): 5.317943838453784\n",
      "WARNING:tensorflow:Falling back from v2 loop because of error: Failed to find data adapter that can handle input: <class 'pandas.core.frame.DataFrame'>, <class 'NoneType'>\n",
      "Testing (LOS): 4.916439370220299\n"
     ]
    }
   ],
   "source": [
    "medicare_df = transformed_df[df[\"insurance_Medicare\"] == 1]\n",
    "print(\"Medicare rows = \" + str(len(medicare_df)))\n",
    "\n",
    "train_dataset = medicare_df.sample(frac=0.7,random_state=0)\n",
    "test_dataset = medicare_df.drop(train_dataset.index)\n",
    "train_labels = train_dataset.pop('los')\n",
    "test_labels = test_dataset.pop('los')\n",
    "\n",
    "X_train, X_val, y_train, y_val = train_test_split(train_dataset, train_labels, test_size=0.70)\n",
    "\n",
    "print(\"INSURANCE = Medicare\")\n",
    "\n",
    "model = build_model(12)\n",
    "\n",
    "EPOCHS = 100\n",
    "\n",
    "history = model.fit(\n",
    "  train_dataset.head(1000), train_labels.head(1000),\n",
    "  epochs=EPOCHS, validation_split = 0.2, verbose=0,\n",
    "  callbacks=[PrintDot()])\n",
    "\n",
    "def plot_history(history):\n",
    "  hist = pd.DataFrame(history.history)\n",
    "  hist['epoch'] = history.epoch\n",
    "\n",
    "  plt.figure()\n",
    "  plt.xlabel('Epoch')\n",
    "  plt.ylabel('Mean Abs Error [los]')\n",
    "  plt.plot(hist['epoch'], hist['mae'],\n",
    "           label='Train Error')\n",
    "  plt.plot(hist['epoch'], hist['val_mae'],\n",
    "           label = 'Val Error')\n",
    "  plt.ylim([0,8])\n",
    "  plt.legend()\n",
    "  plt.show()\n",
    "\n",
    "\n",
    "plot_history(history)\n",
    "\n",
    "hist = pd.DataFrame(history.history)\n",
    "hist['epoch'] = history.epoch\n",
    "hist.tail()\n",
    "print(\"Train (LOS): \" + str(hist[\"mae\"][3:].mean()))\n",
    "print(\"Validation (LOS): \" + str(hist[\"val_mae\"][3:].mean()))\n",
    "\n",
    "actual_predictions = model.predict(test_dataset)\n",
    "test_error = mean_absolute_error(test_labels, actual_predictions)\n",
    "print(\"Testing (LOS): \" + str(test_error))\n",
    "\n",
    "\n",
    "\n"
   ]
  },
  {
   "cell_type": "code",
   "execution_count": 238,
   "metadata": {},
   "outputs": [
    {
     "name": "stdout",
     "output_type": "stream",
     "text": [
      "Private insurance rows = 1012\n",
      "Insurance = PRIVATE\n",
      "WARNING:tensorflow:Falling back from v2 loop because of error: Failed to find data adapter that can handle input: <class 'pandas.core.frame.DataFrame'>, <class 'NoneType'>\n",
      "\n",
      "...................................................................................................."
     ]
    },
    {
     "data": {
      "image/png": "[encoded data removed]",
      "text/plain": [
       "<matplotlib.figure.Figure at 0x4e907a438>"
      ]
     },
     "metadata": {
      "needs_background": "light"
     },
     "output_type": "display_data"
    },
    {
     "name": "stdout",
     "output_type": "stream",
     "text": [
      "Train (LOS): 6.319561412599351\n",
      "Validation (LOS): 6.2087416807810465\n",
      "WARNING:tensorflow:Falling back from v2 loop because of error: Failed to find data adapter that can handle input: <class 'pandas.core.frame.DataFrame'>, <class 'NoneType'>\n",
      "Testing (LOS): 6.263596875793055\n"
     ]
    }
   ],
   "source": [
    "private_df = transformed_df[df[\"insurance_Private\"] == 1]\n",
    "print(\"Private insurance rows = \" + str(len(private_df)))\n",
    "\n",
    "train_dataset = private_df.sample(frac=0.7,random_state=0)\n",
    "test_dataset = private_df.drop(train_dataset.index)\n",
    "train_labels = train_dataset.pop('los')\n",
    "test_labels = test_dataset.pop('los')\n",
    "\n",
    "X_train, X_val, y_train, y_val = train_test_split(train_dataset, train_labels, test_size=0.70)\n",
    "\n",
    "print(\"Insurance = PRIVATE\")\n",
    "\n",
    "model = build_model(12)\n",
    "\n",
    "EPOCHS = 100\n",
    "\n",
    "history = model.fit(\n",
    "  train_dataset, train_labels,\n",
    "  epochs=EPOCHS, validation_split = 0.2, verbose=0,\n",
    "  callbacks=[PrintDot()])\n",
    "\n",
    "def plot_history(history):\n",
    "  hist = pd.DataFrame(history.history)\n",
    "  hist['epoch'] = history.epoch\n",
    "\n",
    "  plt.figure()\n",
    "  plt.xlabel('Epoch')\n",
    "  plt.ylabel('Mean Abs Error [los]')\n",
    "  plt.plot(hist['epoch'], hist['mae'],\n",
    "           label='Train Error')\n",
    "  plt.plot(hist['epoch'], hist['val_mae'],\n",
    "           label = 'Val Error')\n",
    "  plt.legend()\n",
    "  plt.show()\n",
    "\n",
    "\n",
    "plot_history(history)\n",
    "\n",
    "hist = pd.DataFrame(history.history)\n",
    "hist['epoch'] = history.epoch\n",
    "hist.tail()\n",
    "print(\"Train (LOS): \" + str(hist[\"mae\"][10:].mean()))\n",
    "print(\"Validation (LOS): \" + str(hist[\"val_mae\"][10:].mean()))\n",
    "\n",
    "actual_predictions = model.predict(test_dataset)\n",
    "test_error = mean_absolute_error(test_labels, actual_predictions)\n",
    "print(\"Testing (LOS): \" + str(test_error))\n",
    "\n",
    "\n",
    "\n"
   ]
  },
  {
   "cell_type": "code",
   "execution_count": 239,
   "metadata": {},
   "outputs": [
    {
     "name": "stdout",
     "output_type": "stream",
     "text": [
      "3275\n",
      "607\n",
      "2447\n",
      "1012\n"
     ]
    }
   ],
   "source": [
    "print(len(alive_df.values))\n",
    "print(len(dead_df.values))\n",
    "print(len(medicare_df.values))\n",
    "print(len(private_df.values))"
   ]
  },
  {
   "cell_type": "code",
   "execution_count": null,
   "metadata": {},
   "outputs": [],
   "source": []
  }
 ],
 "metadata": {
  "kernelspec": {
   "display_name": "Python 3",
   "language": "python",
   "name": "python3"
  },
  "language_info": {
   "codemirror_mode": {
    "name": "ipython",
    "version": 3
   },
   "file_extension": ".py",
   "mimetype": "text/x-python",
   "name": "python",
   "nbconvert_exporter": "python",
   "pygments_lexer": "ipython3",
   "version": "3.6.3"
  }
 },
 "nbformat": 4,
 "nbformat_minor": 2
}
